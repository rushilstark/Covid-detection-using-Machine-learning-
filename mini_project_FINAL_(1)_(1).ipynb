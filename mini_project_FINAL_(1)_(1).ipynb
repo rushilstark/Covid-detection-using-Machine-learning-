{
  "nbformat": 4,
  "nbformat_minor": 0,
  "metadata": {
    "colab": {
      "name": "mini_project_FINAL_(1)_(1).ipynb",
      "provenance": [],
      "collapsed_sections": [],
      "include_colab_link": true
    },
    "kernelspec": {
      "name": "python3",
      "display_name": "Python 3"
    }
  },
  "cells": [
    {
      "cell_type": "markdown",
      "metadata": {
        "id": "view-in-github",
        "colab_type": "text"
      },
      "source": [
        "<a href=\"https://colab.research.google.com/github/rushilstark/Covid-detection-using-Machine-learning-/blob/main/mini_project_FINAL_(1)_(1).ipynb\" target=\"_parent\"><img src=\"https://colab.research.google.com/assets/colab-badge.svg\" alt=\"Open In Colab\"/></a>"
      ]
    },
    {
      "cell_type": "code",
      "metadata": {
        "colab": {
          "base_uri": "https://localhost:8080/"
        },
        "id": "7vw2FMR6HthI",
        "outputId": "b9cd220c-50c5-43e6-c1db-0cf07cf6b052"
      },
      "source": [
        "from pandas import DataFrame \n",
        "from random import randint\n",
        "import random\n",
        "lst_tmp = []\n",
        "lst_oxy = []\n",
        "lst_hrt = [] \n",
        "lst_tmp_low  =[] \n",
        "lst_tmp_high =[]\n",
        "lst_oxy_low  =[]\n",
        "lst_oxy_high =[]\n",
        "lst_hrt_low  =[]\n",
        "lst_hrt_high =[]\n",
        " \n",
        "for i in range(0, 1000): \n",
        "    \n",
        "    tmp = randint(96,105)\n",
        "    oxy = randint(85,99)\n",
        "    hrt = randint(60,130)\n",
        "\n",
        "    lst_tmp.append(tmp)\n",
        "    lst_oxy.append(oxy)\n",
        "    lst_hrt.append(hrt) \n",
        "    \n",
        "random.shuffle(lst_tmp)\n",
        "random.shuffle(lst_oxy)\n",
        "random.shuffle(lst_hrt)      \n",
        "print(lst_tmp)\n",
        "print(lst_oxy)\n",
        "print(lst_hrt)"
      ],
      "execution_count": 1,
      "outputs": [
        {
          "output_type": "stream",
          "name": "stdout",
          "text": [
            "[105, 102, 103, 98, 100, 102, 104, 103, 98, 105, 103, 99, 98, 103, 99, 97, 98, 102, 96, 103, 99, 99, 96, 105, 100, 96, 96, 101, 100, 100, 99, 103, 103, 100, 98, 103, 101, 105, 101, 101, 99, 96, 100, 103, 100, 104, 104, 97, 104, 101, 99, 96, 105, 103, 102, 101, 99, 99, 98, 100, 98, 96, 96, 104, 99, 104, 103, 104, 101, 98, 102, 98, 104, 105, 97, 102, 105, 103, 104, 105, 101, 100, 102, 104, 105, 100, 100, 96, 105, 99, 104, 99, 99, 96, 102, 96, 97, 99, 96, 102, 96, 103, 104, 96, 97, 99, 105, 98, 104, 103, 100, 96, 103, 97, 97, 104, 104, 97, 102, 96, 98, 102, 105, 100, 102, 105, 100, 103, 104, 101, 103, 96, 97, 98, 101, 102, 104, 100, 100, 101, 98, 105, 99, 96, 100, 103, 98, 97, 105, 96, 102, 102, 100, 102, 105, 96, 96, 98, 100, 99, 97, 96, 100, 96, 97, 100, 98, 99, 100, 97, 105, 105, 101, 99, 98, 104, 96, 100, 105, 99, 100, 103, 99, 98, 102, 97, 102, 103, 99, 96, 96, 96, 103, 104, 103, 103, 102, 101, 102, 102, 104, 101, 97, 102, 100, 97, 99, 101, 105, 101, 101, 99, 100, 99, 101, 104, 99, 103, 101, 97, 104, 100, 105, 104, 103, 99, 96, 96, 104, 103, 98, 105, 104, 103, 100, 98, 99, 103, 100, 97, 101, 97, 102, 100, 97, 104, 99, 96, 103, 99, 102, 97, 105, 104, 97, 99, 101, 98, 99, 100, 101, 101, 97, 100, 102, 103, 100, 98, 103, 103, 97, 103, 101, 100, 104, 101, 98, 100, 98, 99, 97, 100, 102, 102, 102, 103, 102, 104, 97, 104, 101, 98, 104, 104, 100, 104, 101, 99, 96, 97, 101, 105, 100, 104, 103, 102, 99, 101, 97, 101, 99, 100, 104, 101, 102, 98, 99, 105, 103, 103, 103, 105, 102, 102, 99, 99, 96, 97, 98, 104, 98, 102, 98, 96, 104, 101, 102, 98, 96, 103, 101, 98, 102, 96, 103, 96, 98, 96, 100, 98, 100, 105, 97, 101, 97, 104, 96, 99, 105, 105, 101, 97, 96, 104, 105, 98, 103, 100, 101, 103, 100, 96, 105, 104, 101, 105, 97, 97, 104, 104, 100, 97, 101, 102, 97, 99, 104, 105, 103, 97, 97, 97, 100, 103, 105, 104, 104, 102, 99, 96, 100, 105, 104, 96, 101, 98, 103, 96, 100, 101, 103, 103, 97, 98, 96, 101, 97, 105, 103, 97, 98, 103, 104, 103, 100, 104, 105, 96, 98, 100, 97, 99, 104, 96, 105, 97, 103, 97, 101, 101, 103, 98, 96, 100, 100, 104, 96, 101, 98, 104, 100, 101, 99, 97, 97, 103, 99, 97, 105, 96, 103, 100, 102, 97, 102, 101, 96, 99, 96, 100, 100, 99, 100, 104, 102, 104, 101, 97, 97, 97, 105, 102, 104, 102, 102, 100, 99, 104, 104, 97, 97, 102, 104, 104, 103, 104, 99, 100, 99, 99, 99, 103, 98, 105, 102, 98, 102, 102, 105, 99, 98, 96, 105, 103, 103, 98, 99, 104, 96, 96, 105, 103, 101, 97, 97, 99, 100, 99, 99, 97, 96, 102, 104, 105, 103, 100, 99, 97, 100, 105, 99, 98, 103, 103, 99, 100, 102, 99, 102, 96, 96, 100, 104, 99, 96, 105, 102, 99, 97, 100, 97, 103, 103, 104, 96, 104, 105, 99, 100, 97, 102, 100, 97, 99, 100, 99, 104, 105, 96, 101, 97, 101, 100, 99, 105, 98, 99, 99, 99, 102, 97, 98, 103, 105, 98, 100, 102, 101, 102, 99, 101, 100, 96, 98, 100, 104, 97, 103, 105, 105, 96, 105, 96, 97, 96, 100, 104, 101, 97, 101, 103, 105, 103, 99, 97, 99, 105, 102, 96, 104, 101, 100, 100, 103, 97, 97, 101, 98, 96, 105, 98, 101, 98, 96, 100, 105, 100, 104, 96, 103, 97, 97, 96, 96, 98, 96, 99, 104, 98, 102, 103, 101, 102, 104, 97, 104, 98, 101, 103, 99, 98, 104, 100, 100, 101, 104, 102, 98, 96, 97, 100, 99, 96, 104, 97, 102, 102, 105, 103, 100, 99, 104, 100, 97, 105, 101, 105, 105, 102, 97, 99, 105, 101, 105, 104, 99, 100, 97, 102, 105, 98, 101, 100, 100, 101, 105, 102, 103, 104, 102, 102, 102, 104, 98, 99, 105, 100, 101, 100, 100, 101, 105, 102, 105, 97, 102, 104, 97, 98, 102, 102, 100, 105, 99, 97, 102, 99, 100, 96, 101, 98, 97, 99, 98, 98, 98, 101, 96, 101, 103, 103, 97, 103, 99, 100, 102, 96, 99, 105, 104, 98, 102, 102, 102, 103, 103, 100, 97, 100, 99, 104, 102, 104, 104, 105, 96, 99, 103, 102, 98, 99, 96, 98, 102, 97, 100, 99, 100, 102, 105, 99, 104, 103, 102, 104, 105, 98, 104, 105, 103, 103, 96, 99, 96, 99, 102, 99, 96, 101, 98, 102, 99, 105, 96, 105, 98, 97, 103, 102, 102, 96, 100, 105, 97, 104, 99, 105, 103, 105, 100, 104, 104, 105, 105, 99, 104, 97, 97, 98, 100, 101, 103, 103, 96, 97, 97, 97, 99, 102, 101, 99, 105, 104, 101, 104, 104, 103, 99, 99, 98, 98, 98, 105, 103, 100, 102, 97, 105, 96, 103, 98, 105, 96, 101, 102, 97, 101, 103, 98, 101, 98, 104, 102, 98, 102, 96, 104, 97, 97, 96, 96, 99, 101, 102, 101, 96, 103, 104, 97, 99, 104, 100, 97, 101, 100, 98, 104, 101, 105, 97, 100, 100, 100, 100, 105, 103, 102, 103, 97, 96, 103, 96, 100, 103, 99, 98, 102, 102, 104, 100, 96, 101, 97, 97, 105, 103, 101, 103, 99, 102, 103, 103, 101, 103, 105, 96, 103, 97, 100, 96, 100, 103, 97, 104, 104, 104, 100, 100, 100, 100, 103, 102, 97, 98, 96, 97, 102, 98, 102, 99, 97, 100, 104, 98, 98, 100, 100, 96, 100, 103, 99, 97, 100, 103, 96, 99, 104, 102, 105, 104]\n",
            "[94, 92, 90, 85, 87, 93, 96, 99, 93, 91, 92, 96, 90, 93, 88, 86, 90, 93, 94, 99, 91, 89, 95, 88, 90, 93, 96, 92, 96, 98, 85, 99, 85, 85, 87, 98, 90, 94, 88, 94, 90, 99, 94, 88, 95, 91, 91, 96, 97, 89, 87, 94, 88, 85, 92, 97, 93, 94, 85, 97, 88, 88, 96, 89, 89, 89, 95, 90, 90, 95, 93, 88, 93, 91, 86, 86, 96, 99, 98, 94, 93, 98, 98, 91, 92, 85, 92, 92, 98, 97, 95, 86, 91, 86, 87, 96, 95, 96, 96, 86, 91, 91, 94, 88, 98, 87, 96, 86, 91, 85, 95, 87, 91, 95, 85, 86, 96, 89, 97, 85, 86, 86, 90, 90, 87, 86, 93, 98, 98, 85, 91, 87, 89, 93, 85, 96, 85, 99, 86, 90, 85, 86, 96, 94, 92, 89, 98, 99, 94, 90, 95, 87, 97, 93, 99, 95, 90, 93, 92, 88, 93, 91, 97, 93, 86, 90, 88, 88, 96, 97, 93, 89, 95, 90, 97, 95, 99, 85, 99, 94, 96, 90, 89, 85, 93, 87, 86, 94, 95, 95, 99, 92, 86, 95, 99, 85, 85, 87, 85, 88, 93, 87, 86, 85, 87, 89, 97, 92, 94, 87, 87, 99, 96, 95, 92, 94, 91, 92, 85, 95, 86, 92, 92, 94, 90, 89, 97, 94, 96, 91, 88, 85, 87, 90, 92, 90, 88, 91, 98, 98, 87, 95, 91, 85, 87, 95, 91, 90, 96, 90, 85, 99, 92, 99, 85, 86, 95, 96, 98, 88, 90, 96, 93, 89, 91, 85, 95, 95, 93, 99, 87, 91, 96, 94, 96, 88, 89, 86, 98, 99, 88, 85, 93, 90, 94, 99, 96, 97, 92, 88, 90, 87, 93, 87, 97, 97, 85, 86, 98, 92, 86, 87, 99, 92, 94, 89, 89, 89, 91, 89, 94, 92, 95, 88, 88, 95, 97, 93, 90, 89, 99, 98, 97, 95, 94, 85, 91, 95, 91, 99, 99, 96, 87, 99, 95, 85, 91, 86, 99, 86, 87, 96, 87, 85, 96, 96, 89, 95, 97, 90, 87, 91, 88, 92, 87, 98, 90, 88, 93, 90, 87, 93, 88, 89, 94, 91, 97, 88, 92, 90, 87, 88, 88, 99, 97, 90, 89, 99, 99, 91, 89, 99, 91, 86, 96, 93, 99, 87, 95, 92, 96, 97, 96, 99, 89, 86, 94, 85, 87, 86, 97, 97, 97, 90, 90, 99, 96, 94, 98, 85, 94, 88, 90, 85, 96, 96, 95, 91, 98, 89, 91, 89, 99, 94, 89, 93, 89, 91, 85, 95, 93, 90, 93, 91, 95, 93, 91, 92, 85, 93, 97, 99, 85, 86, 87, 92, 98, 86, 94, 92, 93, 97, 94, 98, 96, 96, 87, 91, 88, 98, 90, 87, 90, 93, 96, 85, 90, 92, 94, 96, 93, 85, 98, 96, 86, 95, 93, 94, 98, 96, 92, 89, 98, 94, 91, 90, 90, 86, 94, 88, 99, 86, 91, 90, 85, 94, 91, 98, 92, 86, 86, 92, 88, 94, 97, 90, 91, 91, 96, 97, 90, 95, 92, 90, 88, 97, 87, 87, 99, 92, 91, 95, 86, 93, 89, 85, 94, 87, 95, 85, 94, 86, 89, 86, 92, 88, 96, 93, 96, 88, 97, 86, 99, 97, 85, 85, 91, 86, 94, 99, 87, 96, 91, 96, 95, 93, 87, 86, 98, 86, 88, 93, 93, 98, 97, 87, 97, 90, 87, 98, 96, 99, 94, 88, 95, 85, 98, 92, 88, 99, 85, 91, 95, 93, 97, 98, 98, 87, 87, 92, 90, 97, 98, 96, 91, 86, 94, 94, 92, 96, 95, 91, 89, 93, 85, 97, 89, 88, 88, 91, 95, 88, 93, 96, 89, 98, 95, 87, 85, 91, 98, 88, 99, 91, 90, 96, 92, 91, 91, 93, 86, 86, 98, 91, 91, 88, 90, 88, 99, 88, 95, 86, 89, 96, 85, 90, 93, 99, 98, 95, 92, 94, 87, 89, 99, 91, 93, 90, 91, 90, 88, 95, 96, 91, 87, 93, 85, 96, 93, 86, 93, 98, 94, 98, 90, 90, 85, 88, 97, 85, 95, 88, 93, 86, 85, 95, 90, 97, 96, 95, 99, 85, 91, 95, 92, 88, 86, 93, 90, 94, 91, 87, 99, 88, 98, 92, 95, 86, 94, 89, 85, 98, 95, 94, 87, 95, 97, 99, 95, 91, 91, 91, 98, 93, 96, 92, 90, 96, 91, 98, 93, 90, 89, 90, 95, 89, 97, 86, 98, 92, 98, 86, 96, 93, 88, 96, 99, 97, 89, 89, 89, 88, 96, 88, 98, 92, 98, 86, 86, 91, 89, 93, 89, 87, 91, 91, 86, 96, 91, 86, 85, 87, 98, 91, 85, 91, 87, 86, 89, 92, 96, 86, 90, 92, 91, 96, 89, 88, 97, 92, 98, 95, 96, 87, 96, 87, 85, 98, 88, 99, 88, 94, 97, 99, 90, 97, 91, 87, 88, 98, 88, 86, 96, 92, 95, 90, 96, 97, 90, 92, 97, 87, 94, 89, 98, 96, 93, 86, 90, 90, 91, 99, 97, 90, 87, 94, 96, 88, 98, 97, 91, 87, 96, 89, 91, 90, 87, 95, 99, 90, 96, 97, 97, 98, 90, 91, 99, 97, 89, 85, 87, 91, 86, 90, 91, 99, 86, 85, 91, 96, 88, 91, 89, 90, 97, 93, 95, 95, 96, 99, 86, 96, 99, 90, 92, 94, 88, 89, 97, 91, 89, 86, 87, 96, 87, 86, 92, 86, 96, 98, 86, 98, 91, 91, 95, 97, 96, 92, 95, 99, 87, 86, 97, 99, 86, 87, 94, 99, 91, 90, 87, 85, 97, 85, 86, 93, 97, 91, 99, 88, 88, 93, 99, 92, 94, 95, 87, 99, 92, 94, 95, 98, 90, 94, 88, 85, 99, 87, 93, 89, 95, 88, 95, 91, 92, 96, 97, 93, 94, 91, 95, 93, 94, 91, 88, 91, 92, 94, 92, 98, 92, 90, 92, 95, 97, 89, 91, 87, 98, 96, 89, 96, 95, 96, 87, 98, 98, 99, 92, 91, 91, 95, 92, 97, 89, 92, 91, 87, 89, 93]\n",
            "[94, 93, 129, 86, 85, 119, 106, 128, 100, 123, 107, 94, 82, 127, 88, 67, 62, 128, 77, 81, 94, 118, 115, 108, 74, 79, 68, 122, 82, 107, 75, 66, 64, 129, 91, 120, 77, 103, 75, 105, 121, 79, 63, 93, 112, 123, 61, 130, 83, 93, 118, 65, 85, 87, 66, 109, 74, 84, 105, 88, 77, 92, 128, 112, 103, 124, 128, 95, 88, 123, 106, 103, 79, 88, 68, 79, 63, 89, 98, 129, 86, 121, 83, 76, 125, 62, 77, 94, 107, 111, 105, 111, 92, 105, 84, 61, 113, 128, 81, 105, 108, 101, 76, 101, 110, 78, 113, 126, 77, 125, 71, 68, 85, 76, 88, 121, 73, 80, 74, 101, 106, 127, 112, 123, 61, 77, 92, 66, 124, 109, 110, 84, 105, 106, 126, 110, 84, 95, 86, 120, 88, 108, 101, 125, 75, 66, 86, 112, 106, 125, 113, 67, 75, 89, 122, 122, 110, 106, 104, 74, 67, 94, 105, 119, 103, 68, 97, 77, 92, 94, 66, 98, 127, 85, 91, 127, 118, 90, 117, 62, 73, 76, 120, 119, 105, 84, 78, 76, 129, 100, 79, 61, 62, 90, 102, 123, 110, 70, 77, 104, 107, 116, 122, 96, 126, 89, 69, 124, 65, 127, 66, 81, 99, 130, 123, 60, 101, 126, 126, 124, 121, 125, 86, 117, 73, 81, 86, 63, 106, 128, 68, 122, 60, 89, 96, 93, 123, 75, 91, 124, 60, 121, 83, 129, 64, 77, 127, 129, 80, 106, 114, 90, 107, 73, 108, 99, 83, 103, 103, 81, 89, 122, 89, 110, 102, 102, 100, 116, 69, 66, 114, 104, 63, 74, 112, 66, 93, 86, 119, 61, 65, 75, 92, 81, 86, 124, 100, 61, 88, 89, 64, 98, 115, 105, 75, 95, 62, 84, 69, 113, 87, 101, 118, 127, 82, 73, 91, 111, 90, 124, 83, 65, 129, 95, 110, 109, 79, 129, 104, 99, 102, 128, 106, 115, 76, 130, 116, 113, 83, 84, 115, 98, 85, 93, 63, 122, 73, 92, 117, 124, 109, 112, 126, 83, 127, 71, 82, 63, 66, 84, 120, 75, 100, 104, 69, 81, 108, 91, 64, 62, 70, 108, 124, 117, 102, 75, 87, 98, 77, 104, 88, 102, 116, 107, 102, 88, 120, 62, 79, 61, 129, 93, 62, 94, 98, 97, 60, 127, 67, 62, 78, 62, 116, 78, 87, 67, 61, 79, 128, 118, 101, 111, 107, 66, 102, 75, 77, 86, 75, 72, 83, 79, 79, 119, 77, 61, 80, 121, 100, 94, 113, 122, 129, 120, 122, 118, 99, 126, 126, 79, 87, 66, 73, 119, 121, 117, 113, 64, 85, 68, 122, 75, 130, 64, 94, 102, 82, 93, 124, 75, 60, 125, 78, 92, 116, 73, 78, 113, 97, 124, 80, 79, 65, 66, 82, 79, 116, 70, 110, 83, 88, 85, 100, 124, 102, 62, 70, 70, 96, 124, 113, 73, 101, 126, 109, 85, 86, 61, 65, 107, 115, 102, 71, 104, 105, 91, 114, 108, 122, 104, 81, 117, 74, 77, 72, 87, 88, 75, 96, 96, 129, 111, 128, 114, 70, 79, 68, 62, 108, 123, 75, 93, 103, 126, 91, 79, 94, 82, 91, 78, 72, 105, 78, 104, 70, 108, 124, 122, 119, 81, 125, 84, 113, 77, 110, 84, 119, 114, 126, 81, 123, 95, 72, 127, 129, 93, 92, 130, 77, 101, 99, 63, 113, 81, 107, 121, 67, 101, 124, 99, 70, 62, 98, 113, 73, 108, 83, 111, 117, 69, 85, 74, 87, 73, 83, 61, 129, 109, 95, 89, 71, 125, 111, 106, 116, 86, 88, 71, 109, 101, 67, 105, 112, 76, 129, 99, 118, 118, 80, 130, 63, 60, 117, 68, 114, 100, 67, 111, 65, 81, 110, 60, 91, 107, 101, 125, 81, 74, 66, 73, 106, 117, 63, 95, 115, 120, 105, 78, 120, 93, 71, 99, 70, 64, 61, 100, 121, 94, 113, 124, 78, 128, 84, 83, 95, 61, 99, 102, 105, 86, 90, 124, 78, 101, 94, 77, 60, 128, 109, 71, 70, 79, 75, 104, 106, 86, 111, 109, 86, 85, 92, 100, 108, 94, 72, 86, 84, 61, 107, 120, 90, 84, 126, 129, 85, 105, 85, 81, 125, 126, 75, 102, 70, 84, 84, 90, 80, 81, 100, 95, 128, 105, 121, 111, 121, 120, 74, 87, 102, 66, 126, 127, 75, 118, 115, 68, 83, 95, 62, 78, 75, 73, 74, 71, 119, 75, 113, 66, 110, 108, 117, 63, 80, 115, 121, 65, 85, 128, 119, 99, 84, 70, 125, 114, 74, 115, 78, 95, 87, 112, 125, 115, 72, 93, 100, 122, 122, 94, 94, 115, 79, 112, 100, 95, 79, 68, 127, 110, 68, 77, 64, 112, 96, 101, 66, 63, 101, 94, 80, 93, 101, 79, 74, 104, 85, 103, 121, 101, 86, 78, 74, 88, 75, 104, 87, 82, 98, 123, 118, 81, 67, 80, 99, 108, 92, 108, 81, 91, 79, 80, 127, 79, 65, 124, 68, 113, 78, 70, 103, 130, 115, 114, 64, 121, 114, 116, 122, 97, 118, 81, 116, 108, 71, 126, 88, 70, 91, 94, 102, 126, 87, 68, 61, 90, 94, 64, 96, 78, 83, 103, 62, 119, 76, 106, 98, 69, 101, 128, 102, 70, 121, 94, 85, 125, 93, 121, 88, 127, 98, 93, 70, 106, 71, 127, 64, 65, 77, 110, 83, 123, 123, 102, 95, 99, 127, 60, 72, 71, 77, 77, 64, 73, 67, 70, 88, 124, 122, 100, 68, 79, 90, 71, 76, 123, 75, 98, 85, 81, 129, 78, 99, 75, 98, 77, 118, 90, 86, 61, 108, 79, 89, 65, 117, 73, 121, 82, 60, 83, 91, 91, 81, 92, 90, 73, 97, 81, 122, 111, 95, 128, 100, 116, 127, 66, 86, 119, 123, 76, 91, 72, 76, 93, 115, 80, 64, 101, 83, 114, 106, 98, 64, 119, 84, 101, 83, 66, 65, 103, 119, 72, 90, 89, 113, 94, 97, 89, 117, 83, 109, 72, 71, 85, 106, 112, 96, 113, 125, 113, 94, 110]\n"
          ]
        }
      ]
    },
    {
      "cell_type": "code",
      "metadata": {
        "colab": {
          "base_uri": "https://localhost:8080/"
        },
        "id": "5ZjSBvghP2z2",
        "outputId": "394c782d-d2ab-48d0-b44f-7a1264e24497"
      },
      "source": [
        " import numpy\n",
        "\n",
        "x = lst_tmp\n",
        "y = lst_oxy\n",
        "z = lst_hrt\n",
        "A = numpy.array((x, y, z), dtype=float)\n",
        "A"
      ],
      "execution_count": 2,
      "outputs": [
        {
          "output_type": "execute_result",
          "data": {
            "text/plain": [
              "array([[105., 102., 103., ..., 102., 105., 104.],\n",
              "       [ 94.,  92.,  90., ...,  87.,  89.,  93.],\n",
              "       [ 94.,  93., 129., ..., 113.,  94., 110.]])"
            ]
          },
          "metadata": {},
          "execution_count": 2
        }
      ]
    },
    {
      "cell_type": "code",
      "metadata": {
        "colab": {
          "base_uri": "https://localhost:8080/"
        },
        "id": "uHeVFFafRK8f",
        "outputId": "05c815fd-ff25-42e2-965b-38e93e9bdaed"
      },
      "source": [
        "AT= A.T\n",
        "print(AT)"
      ],
      "execution_count": 3,
      "outputs": [
        {
          "output_type": "stream",
          "name": "stdout",
          "text": [
            "[[105.  94.  94.]\n",
            " [102.  92.  93.]\n",
            " [103.  90. 129.]\n",
            " ...\n",
            " [102.  87. 113.]\n",
            " [105.  89.  94.]\n",
            " [104.  93. 110.]]\n"
          ]
        }
      ]
    },
    {
      "cell_type": "code",
      "metadata": {
        "colab": {
          "base_uri": "https://localhost:8080/",
          "height": 424
        },
        "id": "bZk55I4PSCXI",
        "outputId": "8eefe652-62ed-416e-d6fd-593e2a0300fb"
      },
      "source": [
        "df = DataFrame (AT,columns = ['temp','oxygen','heart beat'])\n",
        "df"
      ],
      "execution_count": 4,
      "outputs": [
        {
          "output_type": "execute_result",
          "data": {
            "text/plain": [
              "      temp  oxygen  heart beat\n",
              "0    105.0    94.0        94.0\n",
              "1    102.0    92.0        93.0\n",
              "2    103.0    90.0       129.0\n",
              "3     98.0    85.0        86.0\n",
              "4    100.0    87.0        85.0\n",
              "..     ...     ...         ...\n",
              "995   99.0    92.0       113.0\n",
              "996  104.0    91.0       125.0\n",
              "997  102.0    87.0       113.0\n",
              "998  105.0    89.0        94.0\n",
              "999  104.0    93.0       110.0\n",
              "\n",
              "[1000 rows x 3 columns]"
            ],
            "text/html": [
              "\n",
              "  <div id=\"df-e599ed2d-dfd2-4b8c-9ab0-4fa22b4b33fa\">\n",
              "    <div class=\"colab-df-container\">\n",
              "      <div>\n",
              "<style scoped>\n",
              "    .dataframe tbody tr th:only-of-type {\n",
              "        vertical-align: middle;\n",
              "    }\n",
              "\n",
              "    .dataframe tbody tr th {\n",
              "        vertical-align: top;\n",
              "    }\n",
              "\n",
              "    .dataframe thead th {\n",
              "        text-align: right;\n",
              "    }\n",
              "</style>\n",
              "<table border=\"1\" class=\"dataframe\">\n",
              "  <thead>\n",
              "    <tr style=\"text-align: right;\">\n",
              "      <th></th>\n",
              "      <th>temp</th>\n",
              "      <th>oxygen</th>\n",
              "      <th>heart beat</th>\n",
              "    </tr>\n",
              "  </thead>\n",
              "  <tbody>\n",
              "    <tr>\n",
              "      <th>0</th>\n",
              "      <td>105.0</td>\n",
              "      <td>94.0</td>\n",
              "      <td>94.0</td>\n",
              "    </tr>\n",
              "    <tr>\n",
              "      <th>1</th>\n",
              "      <td>102.0</td>\n",
              "      <td>92.0</td>\n",
              "      <td>93.0</td>\n",
              "    </tr>\n",
              "    <tr>\n",
              "      <th>2</th>\n",
              "      <td>103.0</td>\n",
              "      <td>90.0</td>\n",
              "      <td>129.0</td>\n",
              "    </tr>\n",
              "    <tr>\n",
              "      <th>3</th>\n",
              "      <td>98.0</td>\n",
              "      <td>85.0</td>\n",
              "      <td>86.0</td>\n",
              "    </tr>\n",
              "    <tr>\n",
              "      <th>4</th>\n",
              "      <td>100.0</td>\n",
              "      <td>87.0</td>\n",
              "      <td>85.0</td>\n",
              "    </tr>\n",
              "    <tr>\n",
              "      <th>...</th>\n",
              "      <td>...</td>\n",
              "      <td>...</td>\n",
              "      <td>...</td>\n",
              "    </tr>\n",
              "    <tr>\n",
              "      <th>995</th>\n",
              "      <td>99.0</td>\n",
              "      <td>92.0</td>\n",
              "      <td>113.0</td>\n",
              "    </tr>\n",
              "    <tr>\n",
              "      <th>996</th>\n",
              "      <td>104.0</td>\n",
              "      <td>91.0</td>\n",
              "      <td>125.0</td>\n",
              "    </tr>\n",
              "    <tr>\n",
              "      <th>997</th>\n",
              "      <td>102.0</td>\n",
              "      <td>87.0</td>\n",
              "      <td>113.0</td>\n",
              "    </tr>\n",
              "    <tr>\n",
              "      <th>998</th>\n",
              "      <td>105.0</td>\n",
              "      <td>89.0</td>\n",
              "      <td>94.0</td>\n",
              "    </tr>\n",
              "    <tr>\n",
              "      <th>999</th>\n",
              "      <td>104.0</td>\n",
              "      <td>93.0</td>\n",
              "      <td>110.0</td>\n",
              "    </tr>\n",
              "  </tbody>\n",
              "</table>\n",
              "<p>1000 rows × 3 columns</p>\n",
              "</div>\n",
              "      <button class=\"colab-df-convert\" onclick=\"convertToInteractive('df-e599ed2d-dfd2-4b8c-9ab0-4fa22b4b33fa')\"\n",
              "              title=\"Convert this dataframe to an interactive table.\"\n",
              "              style=\"display:none;\">\n",
              "        \n",
              "  <svg xmlns=\"http://www.w3.org/2000/svg\" height=\"24px\"viewBox=\"0 0 24 24\"\n",
              "       width=\"24px\">\n",
              "    <path d=\"M0 0h24v24H0V0z\" fill=\"none\"/>\n",
              "    <path d=\"M18.56 5.44l.94 2.06.94-2.06 2.06-.94-2.06-.94-.94-2.06-.94 2.06-2.06.94zm-11 1L8.5 8.5l.94-2.06 2.06-.94-2.06-.94L8.5 2.5l-.94 2.06-2.06.94zm10 10l.94 2.06.94-2.06 2.06-.94-2.06-.94-.94-2.06-.94 2.06-2.06.94z\"/><path d=\"M17.41 7.96l-1.37-1.37c-.4-.4-.92-.59-1.43-.59-.52 0-1.04.2-1.43.59L10.3 9.45l-7.72 7.72c-.78.78-.78 2.05 0 2.83L4 21.41c.39.39.9.59 1.41.59.51 0 1.02-.2 1.41-.59l7.78-7.78 2.81-2.81c.8-.78.8-2.07 0-2.86zM5.41 20L4 18.59l7.72-7.72 1.47 1.35L5.41 20z\"/>\n",
              "  </svg>\n",
              "      </button>\n",
              "      \n",
              "  <style>\n",
              "    .colab-df-container {\n",
              "      display:flex;\n",
              "      flex-wrap:wrap;\n",
              "      gap: 12px;\n",
              "    }\n",
              "\n",
              "    .colab-df-convert {\n",
              "      background-color: #E8F0FE;\n",
              "      border: none;\n",
              "      border-radius: 50%;\n",
              "      cursor: pointer;\n",
              "      display: none;\n",
              "      fill: #1967D2;\n",
              "      height: 32px;\n",
              "      padding: 0 0 0 0;\n",
              "      width: 32px;\n",
              "    }\n",
              "\n",
              "    .colab-df-convert:hover {\n",
              "      background-color: #E2EBFA;\n",
              "      box-shadow: 0px 1px 2px rgba(60, 64, 67, 0.3), 0px 1px 3px 1px rgba(60, 64, 67, 0.15);\n",
              "      fill: #174EA6;\n",
              "    }\n",
              "\n",
              "    [theme=dark] .colab-df-convert {\n",
              "      background-color: #3B4455;\n",
              "      fill: #D2E3FC;\n",
              "    }\n",
              "\n",
              "    [theme=dark] .colab-df-convert:hover {\n",
              "      background-color: #434B5C;\n",
              "      box-shadow: 0px 1px 3px 1px rgba(0, 0, 0, 0.15);\n",
              "      filter: drop-shadow(0px 1px 2px rgba(0, 0, 0, 0.3));\n",
              "      fill: #FFFFFF;\n",
              "    }\n",
              "  </style>\n",
              "\n",
              "      <script>\n",
              "        const buttonEl =\n",
              "          document.querySelector('#df-e599ed2d-dfd2-4b8c-9ab0-4fa22b4b33fa button.colab-df-convert');\n",
              "        buttonEl.style.display =\n",
              "          google.colab.kernel.accessAllowed ? 'block' : 'none';\n",
              "\n",
              "        async function convertToInteractive(key) {\n",
              "          const element = document.querySelector('#df-e599ed2d-dfd2-4b8c-9ab0-4fa22b4b33fa');\n",
              "          const dataTable =\n",
              "            await google.colab.kernel.invokeFunction('convertToInteractive',\n",
              "                                                     [key], {});\n",
              "          if (!dataTable) return;\n",
              "\n",
              "          const docLinkHtml = 'Like what you see? Visit the ' +\n",
              "            '<a target=\"_blank\" href=https://colab.research.google.com/notebooks/data_table.ipynb>data table notebook</a>'\n",
              "            + ' to learn more about interactive tables.';\n",
              "          element.innerHTML = '';\n",
              "          dataTable['output_type'] = 'display_data';\n",
              "          await google.colab.output.renderOutput(dataTable, element);\n",
              "          const docLink = document.createElement('div');\n",
              "          docLink.innerHTML = docLinkHtml;\n",
              "          element.appendChild(docLink);\n",
              "        }\n",
              "      </script>\n",
              "    </div>\n",
              "  </div>\n",
              "  "
            ]
          },
          "metadata": {},
          "execution_count": 4
        }
      ]
    },
    {
      "cell_type": "code",
      "metadata": {
        "id": "b6OiDCVmGFbA"
      },
      "source": [
        "i=0\n",
        "j=0\n",
        "k=0\n",
        "counter=0 \n",
        "output=[]\n",
        "xd=[]\n",
        "while counter < 1000:\n",
        "  if lst_tmp[i]>int(99):\n",
        "    if lst_oxy[j]<int(90):\n",
        "      output.append(\"possible risk\")  \n",
        "      xd.append(1)\n",
        "      #break\n",
        "    else:\n",
        "      if lst_hrt[k]>int(90):\n",
        "        output.append(\"no possible risk\")  \n",
        "        xd.append(0)\n",
        "        #break\n",
        "      else:\n",
        "        output.append(\"no possible risk\")  \n",
        "        xd.append(0)\n",
        "        #break\n",
        "  else:\n",
        "    if lst_oxy[j]<int(90):\n",
        "      if lst_hrt[k]>int(90):\n",
        "        output.append(\"possible risk\")  \n",
        "        xd.append(1)\n",
        "        #break\n",
        "      else:\n",
        "        output.append(\"need further investigation\") \n",
        "        xd.append(2)\n",
        "        #break\n",
        "    else:\n",
        "      if lst_hrt[k]>int(90):\n",
        "        output.append(\"no possible risk\")\n",
        "        xd.append(0)\n",
        "        #break\n",
        "      else:\n",
        "        output.append(\"no possible risk\") \n",
        "        xd.append(0)\n",
        "        #break \n",
        "  i+=1\n",
        "  j+=1\n",
        "  k+=1 \n",
        "  counter+=1"
      ],
      "execution_count": 5,
      "outputs": []
    },
    {
      "cell_type": "code",
      "metadata": {
        "colab": {
          "base_uri": "https://localhost:8080/"
        },
        "id": "7H5iB7YRyv26",
        "outputId": "f5fe4fa6-8529-4c89-f0fa-931f327dfba7"
      },
      "source": [
        "print(output)"
      ],
      "execution_count": 6,
      "outputs": [
        {
          "output_type": "stream",
          "name": "stdout",
          "text": [
            "['no possible risk', 'no possible risk', 'no possible risk', 'need further investigation', 'possible risk', 'no possible risk', 'no possible risk', 'no possible risk', 'no possible risk', 'no possible risk', 'no possible risk', 'no possible risk', 'no possible risk', 'no possible risk', 'need further investigation', 'need further investigation', 'no possible risk', 'no possible risk', 'no possible risk', 'no possible risk', 'no possible risk', 'possible risk', 'no possible risk', 'possible risk', 'no possible risk', 'no possible risk', 'no possible risk', 'no possible risk', 'no possible risk', 'no possible risk', 'need further investigation', 'no possible risk', 'possible risk', 'possible risk', 'possible risk', 'no possible risk', 'no possible risk', 'no possible risk', 'possible risk', 'no possible risk', 'no possible risk', 'no possible risk', 'no possible risk', 'possible risk', 'no possible risk', 'no possible risk', 'no possible risk', 'no possible risk', 'no possible risk', 'possible risk', 'possible risk', 'no possible risk', 'possible risk', 'possible risk', 'no possible risk', 'no possible risk', 'no possible risk', 'no possible risk', 'possible risk', 'no possible risk', 'need further investigation', 'possible risk', 'no possible risk', 'possible risk', 'possible risk', 'possible risk', 'no possible risk', 'no possible risk', 'no possible risk', 'no possible risk', 'no possible risk', 'possible risk', 'no possible risk', 'no possible risk', 'need further investigation', 'possible risk', 'no possible risk', 'no possible risk', 'no possible risk', 'no possible risk', 'no possible risk', 'no possible risk', 'no possible risk', 'no possible risk', 'no possible risk', 'possible risk', 'no possible risk', 'no possible risk', 'no possible risk', 'no possible risk', 'no possible risk', 'possible risk', 'no possible risk', 'possible risk', 'possible risk', 'no possible risk', 'no possible risk', 'no possible risk', 'no possible risk', 'possible risk', 'no possible risk', 'no possible risk', 'no possible risk', 'possible risk', 'no possible risk', 'need further investigation', 'no possible risk', 'possible risk', 'no possible risk', 'possible risk', 'no possible risk', 'need further investigation', 'no possible risk', 'no possible risk', 'need further investigation', 'possible risk', 'no possible risk', 'need further investigation', 'no possible risk', 'possible risk', 'possible risk', 'possible risk', 'no possible risk', 'no possible risk', 'possible risk', 'possible risk', 'no possible risk', 'no possible risk', 'no possible risk', 'possible risk', 'no possible risk', 'need further investigation', 'possible risk', 'no possible risk', 'possible risk', 'no possible risk', 'possible risk', 'no possible risk', 'possible risk', 'no possible risk', 'need further investigation', 'possible risk', 'no possible risk', 'no possible risk', 'no possible risk', 'possible risk', 'no possible risk', 'no possible risk', 'no possible risk', 'no possible risk', 'no possible risk', 'possible risk', 'no possible risk', 'no possible risk', 'no possible risk', 'no possible risk', 'no possible risk', 'no possible risk', 'no possible risk', 'need further investigation', 'no possible risk', 'no possible risk', 'no possible risk', 'no possible risk', 'possible risk', 'no possible risk', 'possible risk', 'need further investigation', 'no possible risk', 'no possible risk', 'no possible risk', 'possible risk', 'no possible risk', 'no possible risk', 'no possible risk', 'no possible risk', 'no possible risk', 'possible risk', 'no possible risk', 'no possible risk', 'no possible risk', 'no possible risk', 'possible risk', 'possible risk', 'no possible risk', 'need further investigation', 'possible risk', 'no possible risk', 'no possible risk', 'no possible risk', 'no possible risk', 'no possible risk', 'possible risk', 'no possible risk', 'no possible risk', 'possible risk', 'possible risk', 'possible risk', 'possible risk', 'possible risk', 'no possible risk', 'possible risk', 'possible risk', 'possible risk', 'possible risk', 'need further investigation', 'no possible risk', 'no possible risk', 'no possible risk', 'possible risk', 'possible risk', 'no possible risk', 'no possible risk', 'no possible risk', 'no possible risk', 'no possible risk', 'no possible risk', 'no possible risk', 'possible risk', 'no possible risk', 'possible risk', 'no possible risk', 'no possible risk', 'no possible risk', 'no possible risk', 'need further investigation', 'no possible risk', 'no possible risk', 'no possible risk', 'no possible risk', 'need further investigation', 'possible risk', 'possible risk', 'no possible risk', 'no possible risk', 'no possible risk', 'possible risk', 'no possible risk', 'no possible risk', 'no possible risk', 'possible risk', 'no possible risk', 'no possible risk', 'possible risk', 'need further investigation', 'no possible risk', 'no possible risk', 'no possible risk', 'no possible risk', 'no possible risk', 'possible risk', 'no possible risk', 'no possible risk', 'no possible risk', 'possible risk', 'possible risk', 'no possible risk', 'no possible risk', 'no possible risk', 'possible risk', 'no possible risk', 'no possible risk', 'no possible risk', 'possible risk', 'no possible risk', 'possible risk', 'no possible risk', 'no possible risk', 'no possible risk', 'no possible risk', 'possible risk', 'no possible risk', 'no possible risk', 'no possible risk', 'no possible risk', 'possible risk', 'possible risk', 'possible risk', 'no possible risk', 'no possible risk', 'need further investigation', 'possible risk', 'no possible risk', 'no possible risk', 'no possible risk', 'no possible risk', 'no possible risk', 'no possible risk', 'no possible risk', 'possible risk', 'no possible risk', 'possible risk', 'no possible risk', 'possible risk', 'no possible risk', 'no possible risk', 'possible risk', 'need further investigation', 'no possible risk', 'no possible risk', 'possible risk', 'possible risk', 'no possible risk', 'no possible risk', 'no possible risk', 'possible risk', 'possible risk', 'possible risk', 'no possible risk', 'possible risk', 'no possible risk', 'no possible risk', 'no possible risk', 'possible risk', 'possible risk', 'no possible risk', 'no possible risk', 'no possible risk', 'no possible risk', 'possible risk', 'no possible risk', 'no possible risk', 'no possible risk', 'no possible risk', 'no possible risk', 'possible risk', 'no possible risk', 'no possible risk', 'no possible risk', 'no possible risk', 'no possible risk', 'no possible risk', 'need further investigation', 'no possible risk', 'no possible risk', 'possible risk', 'no possible risk', 'possible risk', 'no possible risk', 'possible risk', 'possible risk', 'no possible risk', 'possible risk', 'need further investigation', 'no possible risk', 'no possible risk', 'need further investigation', 'no possible risk', 'no possible risk', 'no possible risk', 'possible risk', 'no possible risk', 'possible risk', 'no possible risk', 'need further investigation', 'no possible risk', 'no possible risk', 'possible risk', 'no possible risk', 'no possible risk', 'possible risk', 'no possible risk', 'possible risk', 'possible risk', 'no possible risk', 'no possible risk', 'no possible risk', 'possible risk', 'no possible risk', 'no possible risk', 'possible risk', 'possible risk', 'possible risk', 'no possible risk', 'no possible risk', 'no possible risk', 'possible risk', 'no possible risk', 'no possible risk', 'no possible risk', 'possible risk', 'no possible risk', 'no possible risk', 'possible risk', 'no possible risk', 'no possible risk', 'no possible risk', 'possible risk', 'no possible risk', 'no possible risk', 'no possible risk', 'no possible risk', 'no possible risk', 'no possible risk', 'possible risk', 'possible risk', 'no possible risk', 'possible risk', 'possible risk', 'possible risk', 'no possible risk', 'no possible risk', 'no possible risk', 'no possible risk', 'no possible risk', 'no possible risk', 'no possible risk', 'no possible risk', 'no possible risk', 'possible risk', 'no possible risk', 'possible risk', 'no possible risk', 'possible risk', 'no possible risk', 'no possible risk', 'no possible risk', 'no possible risk', 'no possible risk', 'possible risk', 'no possible risk', 'possible risk', 'no possible risk', 'no possible risk', 'possible risk', 'no possible risk', 'possible risk', 'no possible risk', 'possible risk', 'no possible risk', 'no possible risk', 'no possible risk', 'no possible risk', 'no possible risk', 'no possible risk', 'no possible risk', 'no possible risk', 'no possible risk', 'possible risk', 'no possible risk', 'no possible risk', 'no possible risk', 'possible risk', 'possible risk', 'possible risk', 'no possible risk', 'no possible risk', 'possible risk', 'no possible risk', 'no possible risk', 'no possible risk', 'no possible risk', 'no possible risk', 'no possible risk', 'no possible risk', 'no possible risk', 'need further investigation', 'no possible risk', 'possible risk', 'no possible risk', 'no possible risk', 'possible risk', 'no possible risk', 'no possible risk', 'no possible risk', 'possible risk', 'no possible risk', 'no possible risk', 'no possible risk', 'no possible risk', 'no possible risk', 'need further investigation', 'no possible risk', 'no possible risk', 'possible risk', 'no possible risk', 'no possible risk', 'no possible risk', 'no possible risk', 'no possible risk', 'no possible risk', 'possible risk', 'no possible risk', 'no possible risk', 'no possible risk', 'no possible risk', 'no possible risk', 'possible risk', 'no possible risk', 'possible risk', 'no possible risk', 'possible risk', 'no possible risk', 'no possible risk', 'possible risk', 'no possible risk', 'no possible risk', 'no possible risk', 'no possible risk', 'possible risk', 'need further investigation', 'no possible risk', 'need further investigation', 'no possible risk', 'no possible risk', 'no possible risk', 'no possible risk', 'no possible risk', 'no possible risk', 'no possible risk', 'no possible risk', 'no possible risk', 'no possible risk', 'no possible risk', 'possible risk', 'no possible risk', 'need further investigation', 'possible risk', 'no possible risk', 'no possible risk', 'no possible risk', 'no possible risk', 'possible risk', 'no possible risk', 'possible risk', 'need further investigation', 'no possible risk', 'need further investigation', 'no possible risk', 'need further investigation', 'no possible risk', 'possible risk', 'possible risk', 'possible risk', 'no possible risk', 'possible risk', 'no possible risk', 'no possible risk', 'no possible risk', 'possible risk', 'no possible risk', 'need further investigation', 'no possible risk', 'no possible risk', 'possible risk', 'possible risk', 'no possible risk', 'possible risk', 'no possible risk', 'no possible risk', 'possible risk', 'no possible risk', 'no possible risk', 'no possible risk', 'no possible risk', 'no possible risk', 'possible risk', 'possible risk', 'no possible risk', 'possible risk', 'possible risk', 'no possible risk', 'no possible risk', 'no possible risk', 'no possible risk', 'possible risk', 'no possible risk', 'no possible risk', 'possible risk', 'no possible risk', 'no possible risk', 'no possible risk', 'no possible risk', 'possible risk', 'no possible risk', 'possible risk', 'no possible risk', 'no possible risk', 'possible risk', 'no possible risk', 'need further investigation', 'no possible risk', 'no possible risk', 'no possible risk', 'no possible risk', 'no possible risk', 'no possible risk', 'possible risk', 'possible risk', 'no possible risk', 'no possible risk', 'no possible risk', 'no possible risk', 'no possible risk', 'no possible risk', 'possible risk', 'no possible risk', 'no possible risk', 'no possible risk', 'no possible risk', 'no possible risk', 'no possible risk', 'possible risk', 'no possible risk', 'possible risk', 'no possible risk', 'possible risk', 'possible risk', 'possible risk', 'no possible risk', 'no possible risk', 'possible risk', 'no possible risk', 'no possible risk', 'possible risk', 'no possible risk', 'no possible risk', 'possible risk', 'need further investigation', 'no possible risk', 'no possible risk', 'possible risk', 'no possible risk', 'no possible risk', 'no possible risk', 'no possible risk', 'no possible risk', 'no possible risk', 'no possible risk', 'no possible risk', 'possible risk', 'possible risk', 'no possible risk', 'no possible risk', 'no possible risk', 'possible risk', 'no possible risk', 'need further investigation', 'no possible risk', 'possible risk', 'no possible risk', 'possible risk', 'need further investigation', 'no possible risk', 'possible risk', 'no possible risk', 'no possible risk', 'no possible risk', 'no possible risk', 'no possible risk', 'no possible risk', 'no possible risk', 'need further investigation', 'need further investigation', 'no possible risk', 'no possible risk', 'no possible risk', 'no possible risk', 'no possible risk', 'no possible risk', 'possible risk', 'no possible risk', 'no possible risk', 'no possible risk', 'possible risk', 'no possible risk', 'need further investigation', 'no possible risk', 'no possible risk', 'need further investigation', 'no possible risk', 'no possible risk', 'no possible risk', 'no possible risk', 'no possible risk', 'no possible risk', 'possible risk', 'possible risk', 'no possible risk', 'need further investigation', 'no possible risk', 'possible risk', 'no possible risk', 'possible risk', 'need further investigation', 'no possible risk', 'no possible risk', 'no possible risk', 'no possible risk', 'no possible risk', 'no possible risk', 'possible risk', 'no possible risk', 'no possible risk', 'no possible risk', 'possible risk', 'possible risk', 'no possible risk', 'no possible risk', 'no possible risk', 'no possible risk', 'possible risk', 'no possible risk', 'possible risk', 'no possible risk', 'no possible risk', 'no possible risk', 'need further investigation', 'no possible risk', 'possible risk', 'possible risk', 'no possible risk', 'no possible risk', 'no possible risk', 'possible risk', 'no possible risk', 'no possible risk', 'no possible risk', 'no possible risk', 'no possible risk', 'no possible risk', 'no possible risk', 'no possible risk', 'no possible risk', 'no possible risk', 'no possible risk', 'no possible risk', 'no possible risk', 'no possible risk', 'no possible risk', 'no possible risk', 'no possible risk', 'possible risk', 'no possible risk', 'no possible risk', 'possible risk', 'no possible risk', 'need further investigation', 'no possible risk', 'no possible risk', 'no possible risk', 'possible risk', 'no possible risk', 'no possible risk', 'possible risk', 'no possible risk', 'no possible risk', 'no possible risk', 'possible risk', 'possible risk', 'need further investigation', 'need further investigation', 'no possible risk', 'possible risk', 'no possible risk', 'no possible risk', 'no possible risk', 'possible risk', 'possible risk', 'no possible risk', 'possible risk', 'no possible risk', 'possible risk', 'possible risk', 'no possible risk', 'no possible risk', 'possible risk', 'no possible risk', 'no possible risk', 'possible risk', 'need further investigation', 'possible risk', 'no possible risk', 'no possible risk', 'possible risk', 'no possible risk', 'possible risk', 'possible risk', 'possible risk', 'no possible risk', 'no possible risk', 'possible risk', 'no possible risk', 'no possible risk', 'no possible risk', 'no possible risk', 'possible risk', 'possible risk', 'no possible risk', 'no possible risk', 'no possible risk', 'no possible risk', 'no possible risk', 'possible risk', 'no possible risk', 'possible risk', 'possible risk', 'no possible risk', 'possible risk', 'no possible risk', 'need further investigation', 'no possible risk', 'no possible risk', 'no possible risk', 'no possible risk', 'no possible risk', 'no possible risk', 'possible risk', 'possible risk', 'no possible risk', 'possible risk', 'need further investigation', 'no possible risk', 'no possible risk', 'no possible risk', 'no possible risk', 'no possible risk', 'no possible risk', 'no possible risk', 'no possible risk', 'no possible risk', 'need further investigation', 'no possible risk', 'possible risk', 'no possible risk', 'no possible risk', 'no possible risk', 'possible risk', 'no possible risk', 'no possible risk', 'no possible risk', 'no possible risk', 'no possible risk', 'no possible risk', 'possible risk', 'no possible risk', 'no possible risk', 'possible risk', 'no possible risk', 'no possible risk', 'no possible risk', 'possible risk', 'no possible risk', 'possible risk', 'no possible risk', 'no possible risk', 'possible risk', 'no possible risk', 'no possible risk', 'no possible risk', 'no possible risk', 'no possible risk', 'no possible risk', 'no possible risk', 'no possible risk', 'no possible risk', 'no possible risk', 'no possible risk', 'possible risk', 'possible risk', 'need further investigation', 'no possible risk', 'possible risk', 'no possible risk', 'no possible risk', 'no possible risk', 'possible risk', 'possible risk', 'no possible risk', 'no possible risk', 'possible risk', 'no possible risk', 'possible risk', 'no possible risk', 'no possible risk', 'no possible risk', 'no possible risk', 'no possible risk', 'no possible risk', 'no possible risk', 'need further investigation', 'no possible risk', 'no possible risk', 'no possible risk', 'no possible risk', 'no possible risk', 'possible risk', 'possible risk', 'no possible risk', 'no possible risk', 'possible risk', 'possible risk', 'possible risk', 'no possible risk', 'possible risk', 'need further investigation', 'no possible risk', 'need further investigation', 'no possible risk', 'no possible risk', 'need further investigation', 'no possible risk', 'no possible risk', 'no possible risk', 'no possible risk', 'no possible risk', 'no possible risk', 'no possible risk', 'no possible risk', 'no possible risk', 'possible risk', 'possible risk', 'no possible risk', 'no possible risk', 'possible risk', 'possible risk', 'no possible risk', 'no possible risk', 'no possible risk', 'no possible risk', 'possible risk', 'possible risk', 'no possible risk', 'possible risk', 'possible risk', 'no possible risk', 'no possible risk', 'no possible risk', 'no possible risk', 'need further investigation', 'possible risk', 'no possible risk', 'no possible risk', 'no possible risk', 'no possible risk', 'no possible risk', 'possible risk', 'no possible risk', 'no possible risk', 'no possible risk', 'no possible risk', 'no possible risk', 'no possible risk', 'no possible risk', 'possible risk', 'possible risk', 'no possible risk', 'possible risk', 'no possible risk', 'possible risk', 'no possible risk', 'possible risk', 'no possible risk', 'no possible risk', 'no possible risk', 'no possible risk', 'no possible risk', 'no possible risk', 'no possible risk', 'no possible risk', 'no possible risk', 'no possible risk', 'no possible risk', 'no possible risk', 'possible risk', 'no possible risk', 'no possible risk', 'no possible risk', 'no possible risk', 'no possible risk', 'no possible risk', 'no possible risk', 'no possible risk', 'no possible risk', 'no possible risk', 'need further investigation', 'no possible risk', 'possible risk', 'no possible risk', 'no possible risk', 'need further investigation', 'no possible risk', 'no possible risk', 'no possible risk', 'possible risk', 'no possible risk', 'no possible risk', 'no possible risk', 'no possible risk', 'no possible risk', 'no possible risk', 'no possible risk', 'no possible risk', 'no possible risk', 'possible risk', 'no possible risk', 'no possible risk', 'possible risk', 'possible risk', 'no possible risk']\n"
          ]
        }
      ]
    },
    {
      "cell_type": "code",
      "metadata": {
        "id": "eNIem8IhMqzL"
      },
      "source": [
        "df1 = DataFrame (output,columns = ['prediction'])\n",
        "df1\n",
        "df2 = DataFrame (xd,columns=['yes/no'])"
      ],
      "execution_count": 7,
      "outputs": []
    },
    {
      "cell_type": "code",
      "metadata": {
        "colab": {
          "base_uri": "https://localhost:8080/",
          "height": 424
        },
        "id": "mKC-Xu33Nygq",
        "outputId": "7a253995-a048-465c-fa22-72b1125cd722"
      },
      "source": [
        "import pandas as pd\n",
        "result = pd.concat([df, df1,df2], axis=1)\n",
        "result\n"
      ],
      "execution_count": 8,
      "outputs": [
        {
          "output_type": "execute_result",
          "data": {
            "text/plain": [
              "      temp  oxygen  heart beat                  prediction  yes/no\n",
              "0    105.0    94.0        94.0            no possible risk       0\n",
              "1    102.0    92.0        93.0            no possible risk       0\n",
              "2    103.0    90.0       129.0            no possible risk       0\n",
              "3     98.0    85.0        86.0  need further investigation       2\n",
              "4    100.0    87.0        85.0               possible risk       1\n",
              "..     ...     ...         ...                         ...     ...\n",
              "995   99.0    92.0       113.0            no possible risk       0\n",
              "996  104.0    91.0       125.0            no possible risk       0\n",
              "997  102.0    87.0       113.0               possible risk       1\n",
              "998  105.0    89.0        94.0               possible risk       1\n",
              "999  104.0    93.0       110.0            no possible risk       0\n",
              "\n",
              "[1000 rows x 5 columns]"
            ],
            "text/html": [
              "\n",
              "  <div id=\"df-8b0c7952-26a8-471c-84bd-9d1dd9209541\">\n",
              "    <div class=\"colab-df-container\">\n",
              "      <div>\n",
              "<style scoped>\n",
              "    .dataframe tbody tr th:only-of-type {\n",
              "        vertical-align: middle;\n",
              "    }\n",
              "\n",
              "    .dataframe tbody tr th {\n",
              "        vertical-align: top;\n",
              "    }\n",
              "\n",
              "    .dataframe thead th {\n",
              "        text-align: right;\n",
              "    }\n",
              "</style>\n",
              "<table border=\"1\" class=\"dataframe\">\n",
              "  <thead>\n",
              "    <tr style=\"text-align: right;\">\n",
              "      <th></th>\n",
              "      <th>temp</th>\n",
              "      <th>oxygen</th>\n",
              "      <th>heart beat</th>\n",
              "      <th>prediction</th>\n",
              "      <th>yes/no</th>\n",
              "    </tr>\n",
              "  </thead>\n",
              "  <tbody>\n",
              "    <tr>\n",
              "      <th>0</th>\n",
              "      <td>105.0</td>\n",
              "      <td>94.0</td>\n",
              "      <td>94.0</td>\n",
              "      <td>no possible risk</td>\n",
              "      <td>0</td>\n",
              "    </tr>\n",
              "    <tr>\n",
              "      <th>1</th>\n",
              "      <td>102.0</td>\n",
              "      <td>92.0</td>\n",
              "      <td>93.0</td>\n",
              "      <td>no possible risk</td>\n",
              "      <td>0</td>\n",
              "    </tr>\n",
              "    <tr>\n",
              "      <th>2</th>\n",
              "      <td>103.0</td>\n",
              "      <td>90.0</td>\n",
              "      <td>129.0</td>\n",
              "      <td>no possible risk</td>\n",
              "      <td>0</td>\n",
              "    </tr>\n",
              "    <tr>\n",
              "      <th>3</th>\n",
              "      <td>98.0</td>\n",
              "      <td>85.0</td>\n",
              "      <td>86.0</td>\n",
              "      <td>need further investigation</td>\n",
              "      <td>2</td>\n",
              "    </tr>\n",
              "    <tr>\n",
              "      <th>4</th>\n",
              "      <td>100.0</td>\n",
              "      <td>87.0</td>\n",
              "      <td>85.0</td>\n",
              "      <td>possible risk</td>\n",
              "      <td>1</td>\n",
              "    </tr>\n",
              "    <tr>\n",
              "      <th>...</th>\n",
              "      <td>...</td>\n",
              "      <td>...</td>\n",
              "      <td>...</td>\n",
              "      <td>...</td>\n",
              "      <td>...</td>\n",
              "    </tr>\n",
              "    <tr>\n",
              "      <th>995</th>\n",
              "      <td>99.0</td>\n",
              "      <td>92.0</td>\n",
              "      <td>113.0</td>\n",
              "      <td>no possible risk</td>\n",
              "      <td>0</td>\n",
              "    </tr>\n",
              "    <tr>\n",
              "      <th>996</th>\n",
              "      <td>104.0</td>\n",
              "      <td>91.0</td>\n",
              "      <td>125.0</td>\n",
              "      <td>no possible risk</td>\n",
              "      <td>0</td>\n",
              "    </tr>\n",
              "    <tr>\n",
              "      <th>997</th>\n",
              "      <td>102.0</td>\n",
              "      <td>87.0</td>\n",
              "      <td>113.0</td>\n",
              "      <td>possible risk</td>\n",
              "      <td>1</td>\n",
              "    </tr>\n",
              "    <tr>\n",
              "      <th>998</th>\n",
              "      <td>105.0</td>\n",
              "      <td>89.0</td>\n",
              "      <td>94.0</td>\n",
              "      <td>possible risk</td>\n",
              "      <td>1</td>\n",
              "    </tr>\n",
              "    <tr>\n",
              "      <th>999</th>\n",
              "      <td>104.0</td>\n",
              "      <td>93.0</td>\n",
              "      <td>110.0</td>\n",
              "      <td>no possible risk</td>\n",
              "      <td>0</td>\n",
              "    </tr>\n",
              "  </tbody>\n",
              "</table>\n",
              "<p>1000 rows × 5 columns</p>\n",
              "</div>\n",
              "      <button class=\"colab-df-convert\" onclick=\"convertToInteractive('df-8b0c7952-26a8-471c-84bd-9d1dd9209541')\"\n",
              "              title=\"Convert this dataframe to an interactive table.\"\n",
              "              style=\"display:none;\">\n",
              "        \n",
              "  <svg xmlns=\"http://www.w3.org/2000/svg\" height=\"24px\"viewBox=\"0 0 24 24\"\n",
              "       width=\"24px\">\n",
              "    <path d=\"M0 0h24v24H0V0z\" fill=\"none\"/>\n",
              "    <path d=\"M18.56 5.44l.94 2.06.94-2.06 2.06-.94-2.06-.94-.94-2.06-.94 2.06-2.06.94zm-11 1L8.5 8.5l.94-2.06 2.06-.94-2.06-.94L8.5 2.5l-.94 2.06-2.06.94zm10 10l.94 2.06.94-2.06 2.06-.94-2.06-.94-.94-2.06-.94 2.06-2.06.94z\"/><path d=\"M17.41 7.96l-1.37-1.37c-.4-.4-.92-.59-1.43-.59-.52 0-1.04.2-1.43.59L10.3 9.45l-7.72 7.72c-.78.78-.78 2.05 0 2.83L4 21.41c.39.39.9.59 1.41.59.51 0 1.02-.2 1.41-.59l7.78-7.78 2.81-2.81c.8-.78.8-2.07 0-2.86zM5.41 20L4 18.59l7.72-7.72 1.47 1.35L5.41 20z\"/>\n",
              "  </svg>\n",
              "      </button>\n",
              "      \n",
              "  <style>\n",
              "    .colab-df-container {\n",
              "      display:flex;\n",
              "      flex-wrap:wrap;\n",
              "      gap: 12px;\n",
              "    }\n",
              "\n",
              "    .colab-df-convert {\n",
              "      background-color: #E8F0FE;\n",
              "      border: none;\n",
              "      border-radius: 50%;\n",
              "      cursor: pointer;\n",
              "      display: none;\n",
              "      fill: #1967D2;\n",
              "      height: 32px;\n",
              "      padding: 0 0 0 0;\n",
              "      width: 32px;\n",
              "    }\n",
              "\n",
              "    .colab-df-convert:hover {\n",
              "      background-color: #E2EBFA;\n",
              "      box-shadow: 0px 1px 2px rgba(60, 64, 67, 0.3), 0px 1px 3px 1px rgba(60, 64, 67, 0.15);\n",
              "      fill: #174EA6;\n",
              "    }\n",
              "\n",
              "    [theme=dark] .colab-df-convert {\n",
              "      background-color: #3B4455;\n",
              "      fill: #D2E3FC;\n",
              "    }\n",
              "\n",
              "    [theme=dark] .colab-df-convert:hover {\n",
              "      background-color: #434B5C;\n",
              "      box-shadow: 0px 1px 3px 1px rgba(0, 0, 0, 0.15);\n",
              "      filter: drop-shadow(0px 1px 2px rgba(0, 0, 0, 0.3));\n",
              "      fill: #FFFFFF;\n",
              "    }\n",
              "  </style>\n",
              "\n",
              "      <script>\n",
              "        const buttonEl =\n",
              "          document.querySelector('#df-8b0c7952-26a8-471c-84bd-9d1dd9209541 button.colab-df-convert');\n",
              "        buttonEl.style.display =\n",
              "          google.colab.kernel.accessAllowed ? 'block' : 'none';\n",
              "\n",
              "        async function convertToInteractive(key) {\n",
              "          const element = document.querySelector('#df-8b0c7952-26a8-471c-84bd-9d1dd9209541');\n",
              "          const dataTable =\n",
              "            await google.colab.kernel.invokeFunction('convertToInteractive',\n",
              "                                                     [key], {});\n",
              "          if (!dataTable) return;\n",
              "\n",
              "          const docLinkHtml = 'Like what you see? Visit the ' +\n",
              "            '<a target=\"_blank\" href=https://colab.research.google.com/notebooks/data_table.ipynb>data table notebook</a>'\n",
              "            + ' to learn more about interactive tables.';\n",
              "          element.innerHTML = '';\n",
              "          dataTable['output_type'] = 'display_data';\n",
              "          await google.colab.output.renderOutput(dataTable, element);\n",
              "          const docLink = document.createElement('div');\n",
              "          docLink.innerHTML = docLinkHtml;\n",
              "          element.appendChild(docLink);\n",
              "        }\n",
              "      </script>\n",
              "    </div>\n",
              "  </div>\n",
              "  "
            ]
          },
          "metadata": {},
          "execution_count": 8
        }
      ]
    },
    {
      "cell_type": "code",
      "metadata": {
        "id": "wAaJf9OkRzUZ"
      },
      "source": [
        "result.to_csv(\"result1.csv\")\n"
      ],
      "execution_count": 9,
      "outputs": []
    },
    {
      "cell_type": "markdown",
      "metadata": {
        "id": "2-j1ErWMtGW3"
      },
      "source": [
        "#MACHINE LEARNING MODEL "
      ]
    },
    {
      "cell_type": "code",
      "metadata": {
        "id": "cfokxAjGtFje"
      },
      "source": [
        "import pandas as pd\n",
        "from sklearn.tree import DecisionTreeClassifier # Import Decision Tree Classifier\n",
        "from sklearn.model_selection import train_test_split # Import train_test_split function\n",
        "from sklearn import metrics #Import scikit-learn metrics module for accuracy calculation"
      ],
      "execution_count": 10,
      "outputs": []
    },
    {
      "cell_type": "code",
      "metadata": {
        "id": "tco5KiQSZutE",
        "colab": {
          "base_uri": "https://localhost:8080/",
          "height": 424
        },
        "outputId": "8cb00ba7-9d50-4051-9de5-cd634de4f453"
      },
      "source": [
        "df=pd.read_csv('/content/result1.csv') \n",
        "df"
      ],
      "execution_count": 11,
      "outputs": [
        {
          "output_type": "execute_result",
          "data": {
            "text/plain": [
              "     Unnamed: 0   temp  oxygen  heart beat                  prediction  yes/no\n",
              "0             0  105.0    94.0        94.0            no possible risk       0\n",
              "1             1  102.0    92.0        93.0            no possible risk       0\n",
              "2             2  103.0    90.0       129.0            no possible risk       0\n",
              "3             3   98.0    85.0        86.0  need further investigation       2\n",
              "4             4  100.0    87.0        85.0               possible risk       1\n",
              "..          ...    ...     ...         ...                         ...     ...\n",
              "995         995   99.0    92.0       113.0            no possible risk       0\n",
              "996         996  104.0    91.0       125.0            no possible risk       0\n",
              "997         997  102.0    87.0       113.0               possible risk       1\n",
              "998         998  105.0    89.0        94.0               possible risk       1\n",
              "999         999  104.0    93.0       110.0            no possible risk       0\n",
              "\n",
              "[1000 rows x 6 columns]"
            ],
            "text/html": [
              "\n",
              "  <div id=\"df-ef253b3f-8c92-4ba3-8ea0-2a510cbae1c8\">\n",
              "    <div class=\"colab-df-container\">\n",
              "      <div>\n",
              "<style scoped>\n",
              "    .dataframe tbody tr th:only-of-type {\n",
              "        vertical-align: middle;\n",
              "    }\n",
              "\n",
              "    .dataframe tbody tr th {\n",
              "        vertical-align: top;\n",
              "    }\n",
              "\n",
              "    .dataframe thead th {\n",
              "        text-align: right;\n",
              "    }\n",
              "</style>\n",
              "<table border=\"1\" class=\"dataframe\">\n",
              "  <thead>\n",
              "    <tr style=\"text-align: right;\">\n",
              "      <th></th>\n",
              "      <th>Unnamed: 0</th>\n",
              "      <th>temp</th>\n",
              "      <th>oxygen</th>\n",
              "      <th>heart beat</th>\n",
              "      <th>prediction</th>\n",
              "      <th>yes/no</th>\n",
              "    </tr>\n",
              "  </thead>\n",
              "  <tbody>\n",
              "    <tr>\n",
              "      <th>0</th>\n",
              "      <td>0</td>\n",
              "      <td>105.0</td>\n",
              "      <td>94.0</td>\n",
              "      <td>94.0</td>\n",
              "      <td>no possible risk</td>\n",
              "      <td>0</td>\n",
              "    </tr>\n",
              "    <tr>\n",
              "      <th>1</th>\n",
              "      <td>1</td>\n",
              "      <td>102.0</td>\n",
              "      <td>92.0</td>\n",
              "      <td>93.0</td>\n",
              "      <td>no possible risk</td>\n",
              "      <td>0</td>\n",
              "    </tr>\n",
              "    <tr>\n",
              "      <th>2</th>\n",
              "      <td>2</td>\n",
              "      <td>103.0</td>\n",
              "      <td>90.0</td>\n",
              "      <td>129.0</td>\n",
              "      <td>no possible risk</td>\n",
              "      <td>0</td>\n",
              "    </tr>\n",
              "    <tr>\n",
              "      <th>3</th>\n",
              "      <td>3</td>\n",
              "      <td>98.0</td>\n",
              "      <td>85.0</td>\n",
              "      <td>86.0</td>\n",
              "      <td>need further investigation</td>\n",
              "      <td>2</td>\n",
              "    </tr>\n",
              "    <tr>\n",
              "      <th>4</th>\n",
              "      <td>4</td>\n",
              "      <td>100.0</td>\n",
              "      <td>87.0</td>\n",
              "      <td>85.0</td>\n",
              "      <td>possible risk</td>\n",
              "      <td>1</td>\n",
              "    </tr>\n",
              "    <tr>\n",
              "      <th>...</th>\n",
              "      <td>...</td>\n",
              "      <td>...</td>\n",
              "      <td>...</td>\n",
              "      <td>...</td>\n",
              "      <td>...</td>\n",
              "      <td>...</td>\n",
              "    </tr>\n",
              "    <tr>\n",
              "      <th>995</th>\n",
              "      <td>995</td>\n",
              "      <td>99.0</td>\n",
              "      <td>92.0</td>\n",
              "      <td>113.0</td>\n",
              "      <td>no possible risk</td>\n",
              "      <td>0</td>\n",
              "    </tr>\n",
              "    <tr>\n",
              "      <th>996</th>\n",
              "      <td>996</td>\n",
              "      <td>104.0</td>\n",
              "      <td>91.0</td>\n",
              "      <td>125.0</td>\n",
              "      <td>no possible risk</td>\n",
              "      <td>0</td>\n",
              "    </tr>\n",
              "    <tr>\n",
              "      <th>997</th>\n",
              "      <td>997</td>\n",
              "      <td>102.0</td>\n",
              "      <td>87.0</td>\n",
              "      <td>113.0</td>\n",
              "      <td>possible risk</td>\n",
              "      <td>1</td>\n",
              "    </tr>\n",
              "    <tr>\n",
              "      <th>998</th>\n",
              "      <td>998</td>\n",
              "      <td>105.0</td>\n",
              "      <td>89.0</td>\n",
              "      <td>94.0</td>\n",
              "      <td>possible risk</td>\n",
              "      <td>1</td>\n",
              "    </tr>\n",
              "    <tr>\n",
              "      <th>999</th>\n",
              "      <td>999</td>\n",
              "      <td>104.0</td>\n",
              "      <td>93.0</td>\n",
              "      <td>110.0</td>\n",
              "      <td>no possible risk</td>\n",
              "      <td>0</td>\n",
              "    </tr>\n",
              "  </tbody>\n",
              "</table>\n",
              "<p>1000 rows × 6 columns</p>\n",
              "</div>\n",
              "      <button class=\"colab-df-convert\" onclick=\"convertToInteractive('df-ef253b3f-8c92-4ba3-8ea0-2a510cbae1c8')\"\n",
              "              title=\"Convert this dataframe to an interactive table.\"\n",
              "              style=\"display:none;\">\n",
              "        \n",
              "  <svg xmlns=\"http://www.w3.org/2000/svg\" height=\"24px\"viewBox=\"0 0 24 24\"\n",
              "       width=\"24px\">\n",
              "    <path d=\"M0 0h24v24H0V0z\" fill=\"none\"/>\n",
              "    <path d=\"M18.56 5.44l.94 2.06.94-2.06 2.06-.94-2.06-.94-.94-2.06-.94 2.06-2.06.94zm-11 1L8.5 8.5l.94-2.06 2.06-.94-2.06-.94L8.5 2.5l-.94 2.06-2.06.94zm10 10l.94 2.06.94-2.06 2.06-.94-2.06-.94-.94-2.06-.94 2.06-2.06.94z\"/><path d=\"M17.41 7.96l-1.37-1.37c-.4-.4-.92-.59-1.43-.59-.52 0-1.04.2-1.43.59L10.3 9.45l-7.72 7.72c-.78.78-.78 2.05 0 2.83L4 21.41c.39.39.9.59 1.41.59.51 0 1.02-.2 1.41-.59l7.78-7.78 2.81-2.81c.8-.78.8-2.07 0-2.86zM5.41 20L4 18.59l7.72-7.72 1.47 1.35L5.41 20z\"/>\n",
              "  </svg>\n",
              "      </button>\n",
              "      \n",
              "  <style>\n",
              "    .colab-df-container {\n",
              "      display:flex;\n",
              "      flex-wrap:wrap;\n",
              "      gap: 12px;\n",
              "    }\n",
              "\n",
              "    .colab-df-convert {\n",
              "      background-color: #E8F0FE;\n",
              "      border: none;\n",
              "      border-radius: 50%;\n",
              "      cursor: pointer;\n",
              "      display: none;\n",
              "      fill: #1967D2;\n",
              "      height: 32px;\n",
              "      padding: 0 0 0 0;\n",
              "      width: 32px;\n",
              "    }\n",
              "\n",
              "    .colab-df-convert:hover {\n",
              "      background-color: #E2EBFA;\n",
              "      box-shadow: 0px 1px 2px rgba(60, 64, 67, 0.3), 0px 1px 3px 1px rgba(60, 64, 67, 0.15);\n",
              "      fill: #174EA6;\n",
              "    }\n",
              "\n",
              "    [theme=dark] .colab-df-convert {\n",
              "      background-color: #3B4455;\n",
              "      fill: #D2E3FC;\n",
              "    }\n",
              "\n",
              "    [theme=dark] .colab-df-convert:hover {\n",
              "      background-color: #434B5C;\n",
              "      box-shadow: 0px 1px 3px 1px rgba(0, 0, 0, 0.15);\n",
              "      filter: drop-shadow(0px 1px 2px rgba(0, 0, 0, 0.3));\n",
              "      fill: #FFFFFF;\n",
              "    }\n",
              "  </style>\n",
              "\n",
              "      <script>\n",
              "        const buttonEl =\n",
              "          document.querySelector('#df-ef253b3f-8c92-4ba3-8ea0-2a510cbae1c8 button.colab-df-convert');\n",
              "        buttonEl.style.display =\n",
              "          google.colab.kernel.accessAllowed ? 'block' : 'none';\n",
              "\n",
              "        async function convertToInteractive(key) {\n",
              "          const element = document.querySelector('#df-ef253b3f-8c92-4ba3-8ea0-2a510cbae1c8');\n",
              "          const dataTable =\n",
              "            await google.colab.kernel.invokeFunction('convertToInteractive',\n",
              "                                                     [key], {});\n",
              "          if (!dataTable) return;\n",
              "\n",
              "          const docLinkHtml = 'Like what you see? Visit the ' +\n",
              "            '<a target=\"_blank\" href=https://colab.research.google.com/notebooks/data_table.ipynb>data table notebook</a>'\n",
              "            + ' to learn more about interactive tables.';\n",
              "          element.innerHTML = '';\n",
              "          dataTable['output_type'] = 'display_data';\n",
              "          await google.colab.output.renderOutput(dataTable, element);\n",
              "          const docLink = document.createElement('div');\n",
              "          docLink.innerHTML = docLinkHtml;\n",
              "          element.appendChild(docLink);\n",
              "        }\n",
              "      </script>\n",
              "    </div>\n",
              "  </div>\n",
              "  "
            ]
          },
          "metadata": {},
          "execution_count": 11
        }
      ]
    },
    {
      "cell_type": "code",
      "metadata": {
        "id": "HZBxT9K6f8j_"
      },
      "source": [
        "graph=df.drop(\"Unnamed: 0\",axis=1)"
      ],
      "execution_count": 12,
      "outputs": []
    },
    {
      "cell_type": "code",
      "metadata": {
        "colab": {
          "base_uri": "https://localhost:8080/",
          "height": 282
        },
        "id": "RnbfmTEZfT3m",
        "outputId": "ea6d0911-7393-4176-9833-a442d69cc744"
      },
      "source": [
        "import matplotlib.pyplot as plt\n",
        "graph.plot(kind='hist') # scatter plot"
      ],
      "execution_count": 13,
      "outputs": [
        {
          "output_type": "execute_result",
          "data": {
            "text/plain": [
              "<matplotlib.axes._subplots.AxesSubplot at 0x7f0c20bfbf10>"
            ]
          },
          "metadata": {},
          "execution_count": 13
        },
        {
          "output_type": "display_data",
          "data": {
            "text/plain": [
              "<Figure size 432x288 with 1 Axes>"
            ],
            "image/png": "[encoded data removed]"
          },
          "metadata": {
            "needs_background": "light"
          }
        }
      ]
    },
    {
      "cell_type": "code",
      "metadata": {
        "id": "ok0t4pu_bLG_"
      },
      "source": [
        "y=df[\"prediction\"]"
      ],
      "execution_count": 14,
      "outputs": []
    },
    {
      "cell_type": "code",
      "metadata": {
        "id": "otO4LkxSbdrO"
      },
      "source": [
        "X=df.drop(\"prediction\",axis=1)"
      ],
      "execution_count": 15,
      "outputs": []
    },
    {
      "cell_type": "code",
      "metadata": {
        "id": "ex-kPtukcofJ"
      },
      "source": [
        "X=X.drop(\"Unnamed: 0\",axis=1)"
      ],
      "execution_count": 16,
      "outputs": []
    },
    {
      "cell_type": "code",
      "source": [
        "x=df.iloc[:,0:3].values\n",
        "print(x)\n",
        "y=df.iloc[:, 5].values\n",
        "\n"
      ],
      "metadata": {
        "colab": {
          "base_uri": "https://localhost:8080/"
        },
        "id": "4ervhJoS0HMh",
        "outputId": "ced1d59e-9f50-4f91-901b-e2116011ca1d"
      },
      "execution_count": 17,
      "outputs": [
        {
          "output_type": "stream",
          "name": "stdout",
          "text": [
            "[[  0. 105.  94.]\n",
            " [  1. 102.  92.]\n",
            " [  2. 103.  90.]\n",
            " ...\n",
            " [997. 102.  87.]\n",
            " [998. 105.  89.]\n",
            " [999. 104.  93.]]\n"
          ]
        }
      ]
    },
    {
      "cell_type": "code",
      "source": [
        "X=X.drop(\"yes/no\",axis=1)"
      ],
      "metadata": {
        "id": "L0qmveCU0DEq"
      },
      "execution_count": 18,
      "outputs": []
    },
    {
      "cell_type": "code",
      "metadata": {
        "colab": {
          "base_uri": "https://localhost:8080/",
          "height": 206
        },
        "id": "TC3M5lIJcFTo",
        "outputId": "4ad4f745-c449-4705-b73c-ab420811fd8b"
      },
      "source": [
        "X.head()"
      ],
      "execution_count": 19,
      "outputs": [
        {
          "output_type": "execute_result",
          "data": {
            "text/plain": [
              "    temp  oxygen  heart beat\n",
              "0  105.0    94.0        94.0\n",
              "1  102.0    92.0        93.0\n",
              "2  103.0    90.0       129.0\n",
              "3   98.0    85.0        86.0\n",
              "4  100.0    87.0        85.0"
            ],
            "text/html": [
              "\n",
              "  <div id=\"df-df171b4b-c0c8-466c-bd2a-d15d548c7899\">\n",
              "    <div class=\"colab-df-container\">\n",
              "      <div>\n",
              "<style scoped>\n",
              "    .dataframe tbody tr th:only-of-type {\n",
              "        vertical-align: middle;\n",
              "    }\n",
              "\n",
              "    .dataframe tbody tr th {\n",
              "        vertical-align: top;\n",
              "    }\n",
              "\n",
              "    .dataframe thead th {\n",
              "        text-align: right;\n",
              "    }\n",
              "</style>\n",
              "<table border=\"1\" class=\"dataframe\">\n",
              "  <thead>\n",
              "    <tr style=\"text-align: right;\">\n",
              "      <th></th>\n",
              "      <th>temp</th>\n",
              "      <th>oxygen</th>\n",
              "      <th>heart beat</th>\n",
              "    </tr>\n",
              "  </thead>\n",
              "  <tbody>\n",
              "    <tr>\n",
              "      <th>0</th>\n",
              "      <td>105.0</td>\n",
              "      <td>94.0</td>\n",
              "      <td>94.0</td>\n",
              "    </tr>\n",
              "    <tr>\n",
              "      <th>1</th>\n",
              "      <td>102.0</td>\n",
              "      <td>92.0</td>\n",
              "      <td>93.0</td>\n",
              "    </tr>\n",
              "    <tr>\n",
              "      <th>2</th>\n",
              "      <td>103.0</td>\n",
              "      <td>90.0</td>\n",
              "      <td>129.0</td>\n",
              "    </tr>\n",
              "    <tr>\n",
              "      <th>3</th>\n",
              "      <td>98.0</td>\n",
              "      <td>85.0</td>\n",
              "      <td>86.0</td>\n",
              "    </tr>\n",
              "    <tr>\n",
              "      <th>4</th>\n",
              "      <td>100.0</td>\n",
              "      <td>87.0</td>\n",
              "      <td>85.0</td>\n",
              "    </tr>\n",
              "  </tbody>\n",
              "</table>\n",
              "</div>\n",
              "      <button class=\"colab-df-convert\" onclick=\"convertToInteractive('df-df171b4b-c0c8-466c-bd2a-d15d548c7899')\"\n",
              "              title=\"Convert this dataframe to an interactive table.\"\n",
              "              style=\"display:none;\">\n",
              "        \n",
              "  <svg xmlns=\"http://www.w3.org/2000/svg\" height=\"24px\"viewBox=\"0 0 24 24\"\n",
              "       width=\"24px\">\n",
              "    <path d=\"M0 0h24v24H0V0z\" fill=\"none\"/>\n",
              "    <path d=\"M18.56 5.44l.94 2.06.94-2.06 2.06-.94-2.06-.94-.94-2.06-.94 2.06-2.06.94zm-11 1L8.5 8.5l.94-2.06 2.06-.94-2.06-.94L8.5 2.5l-.94 2.06-2.06.94zm10 10l.94 2.06.94-2.06 2.06-.94-2.06-.94-.94-2.06-.94 2.06-2.06.94z\"/><path d=\"M17.41 7.96l-1.37-1.37c-.4-.4-.92-.59-1.43-.59-.52 0-1.04.2-1.43.59L10.3 9.45l-7.72 7.72c-.78.78-.78 2.05 0 2.83L4 21.41c.39.39.9.59 1.41.59.51 0 1.02-.2 1.41-.59l7.78-7.78 2.81-2.81c.8-.78.8-2.07 0-2.86zM5.41 20L4 18.59l7.72-7.72 1.47 1.35L5.41 20z\"/>\n",
              "  </svg>\n",
              "      </button>\n",
              "      \n",
              "  <style>\n",
              "    .colab-df-container {\n",
              "      display:flex;\n",
              "      flex-wrap:wrap;\n",
              "      gap: 12px;\n",
              "    }\n",
              "\n",
              "    .colab-df-convert {\n",
              "      background-color: #E8F0FE;\n",
              "      border: none;\n",
              "      border-radius: 50%;\n",
              "      cursor: pointer;\n",
              "      display: none;\n",
              "      fill: #1967D2;\n",
              "      height: 32px;\n",
              "      padding: 0 0 0 0;\n",
              "      width: 32px;\n",
              "    }\n",
              "\n",
              "    .colab-df-convert:hover {\n",
              "      background-color: #E2EBFA;\n",
              "      box-shadow: 0px 1px 2px rgba(60, 64, 67, 0.3), 0px 1px 3px 1px rgba(60, 64, 67, 0.15);\n",
              "      fill: #174EA6;\n",
              "    }\n",
              "\n",
              "    [theme=dark] .colab-df-convert {\n",
              "      background-color: #3B4455;\n",
              "      fill: #D2E3FC;\n",
              "    }\n",
              "\n",
              "    [theme=dark] .colab-df-convert:hover {\n",
              "      background-color: #434B5C;\n",
              "      box-shadow: 0px 1px 3px 1px rgba(0, 0, 0, 0.15);\n",
              "      filter: drop-shadow(0px 1px 2px rgba(0, 0, 0, 0.3));\n",
              "      fill: #FFFFFF;\n",
              "    }\n",
              "  </style>\n",
              "\n",
              "      <script>\n",
              "        const buttonEl =\n",
              "          document.querySelector('#df-df171b4b-c0c8-466c-bd2a-d15d548c7899 button.colab-df-convert');\n",
              "        buttonEl.style.display =\n",
              "          google.colab.kernel.accessAllowed ? 'block' : 'none';\n",
              "\n",
              "        async function convertToInteractive(key) {\n",
              "          const element = document.querySelector('#df-df171b4b-c0c8-466c-bd2a-d15d548c7899');\n",
              "          const dataTable =\n",
              "            await google.colab.kernel.invokeFunction('convertToInteractive',\n",
              "                                                     [key], {});\n",
              "          if (!dataTable) return;\n",
              "\n",
              "          const docLinkHtml = 'Like what you see? Visit the ' +\n",
              "            '<a target=\"_blank\" href=https://colab.research.google.com/notebooks/data_table.ipynb>data table notebook</a>'\n",
              "            + ' to learn more about interactive tables.';\n",
              "          element.innerHTML = '';\n",
              "          dataTable['output_type'] = 'display_data';\n",
              "          await google.colab.output.renderOutput(dataTable, element);\n",
              "          const docLink = document.createElement('div');\n",
              "          docLink.innerHTML = docLinkHtml;\n",
              "          element.appendChild(docLink);\n",
              "        }\n",
              "      </script>\n",
              "    </div>\n",
              "  </div>\n",
              "  "
            ]
          },
          "metadata": {},
          "execution_count": 19
        }
      ]
    },
    {
      "cell_type": "code",
      "metadata": {
        "colab": {
          "base_uri": "https://localhost:8080/",
          "height": 300
        },
        "id": "3YhMah0xhHG9",
        "outputId": "874f54ef-9d7f-4292-acb6-ff154c5ef52f"
      },
      "source": [
        "X.describe()"
      ],
      "execution_count": 20,
      "outputs": [
        {
          "output_type": "execute_result",
          "data": {
            "text/plain": [
              "              temp       oxygen  heart beat\n",
              "count  1000.000000  1000.000000  1000.00000\n",
              "mean    100.489000    91.939000    94.77100\n",
              "std       2.856578     4.265615    20.37144\n",
              "min      96.000000    85.000000    60.00000\n",
              "25%      98.000000    88.000000    77.75000\n",
              "50%     100.000000    92.000000    94.00000\n",
              "75%     103.000000    96.000000   113.00000\n",
              "max     105.000000    99.000000   130.00000"
            ],
            "text/html": [
              "\n",
              "  <div id=\"df-8423b3c9-7a48-4b7d-aaf5-5cc97e94a929\">\n",
              "    <div class=\"colab-df-container\">\n",
              "      <div>\n",
              "<style scoped>\n",
              "    .dataframe tbody tr th:only-of-type {\n",
              "        vertical-align: middle;\n",
              "    }\n",
              "\n",
              "    .dataframe tbody tr th {\n",
              "        vertical-align: top;\n",
              "    }\n",
              "\n",
              "    .dataframe thead th {\n",
              "        text-align: right;\n",
              "    }\n",
              "</style>\n",
              "<table border=\"1\" class=\"dataframe\">\n",
              "  <thead>\n",
              "    <tr style=\"text-align: right;\">\n",
              "      <th></th>\n",
              "      <th>temp</th>\n",
              "      <th>oxygen</th>\n",
              "      <th>heart beat</th>\n",
              "    </tr>\n",
              "  </thead>\n",
              "  <tbody>\n",
              "    <tr>\n",
              "      <th>count</th>\n",
              "      <td>1000.000000</td>\n",
              "      <td>1000.000000</td>\n",
              "      <td>1000.00000</td>\n",
              "    </tr>\n",
              "    <tr>\n",
              "      <th>mean</th>\n",
              "      <td>100.489000</td>\n",
              "      <td>91.939000</td>\n",
              "      <td>94.77100</td>\n",
              "    </tr>\n",
              "    <tr>\n",
              "      <th>std</th>\n",
              "      <td>2.856578</td>\n",
              "      <td>4.265615</td>\n",
              "      <td>20.37144</td>\n",
              "    </tr>\n",
              "    <tr>\n",
              "      <th>min</th>\n",
              "      <td>96.000000</td>\n",
              "      <td>85.000000</td>\n",
              "      <td>60.00000</td>\n",
              "    </tr>\n",
              "    <tr>\n",
              "      <th>25%</th>\n",
              "      <td>98.000000</td>\n",
              "      <td>88.000000</td>\n",
              "      <td>77.75000</td>\n",
              "    </tr>\n",
              "    <tr>\n",
              "      <th>50%</th>\n",
              "      <td>100.000000</td>\n",
              "      <td>92.000000</td>\n",
              "      <td>94.00000</td>\n",
              "    </tr>\n",
              "    <tr>\n",
              "      <th>75%</th>\n",
              "      <td>103.000000</td>\n",
              "      <td>96.000000</td>\n",
              "      <td>113.00000</td>\n",
              "    </tr>\n",
              "    <tr>\n",
              "      <th>max</th>\n",
              "      <td>105.000000</td>\n",
              "      <td>99.000000</td>\n",
              "      <td>130.00000</td>\n",
              "    </tr>\n",
              "  </tbody>\n",
              "</table>\n",
              "</div>\n",
              "      <button class=\"colab-df-convert\" onclick=\"convertToInteractive('df-8423b3c9-7a48-4b7d-aaf5-5cc97e94a929')\"\n",
              "              title=\"Convert this dataframe to an interactive table.\"\n",
              "              style=\"display:none;\">\n",
              "        \n",
              "  <svg xmlns=\"http://www.w3.org/2000/svg\" height=\"24px\"viewBox=\"0 0 24 24\"\n",
              "       width=\"24px\">\n",
              "    <path d=\"M0 0h24v24H0V0z\" fill=\"none\"/>\n",
              "    <path d=\"M18.56 5.44l.94 2.06.94-2.06 2.06-.94-2.06-.94-.94-2.06-.94 2.06-2.06.94zm-11 1L8.5 8.5l.94-2.06 2.06-.94-2.06-.94L8.5 2.5l-.94 2.06-2.06.94zm10 10l.94 2.06.94-2.06 2.06-.94-2.06-.94-.94-2.06-.94 2.06-2.06.94z\"/><path d=\"M17.41 7.96l-1.37-1.37c-.4-.4-.92-.59-1.43-.59-.52 0-1.04.2-1.43.59L10.3 9.45l-7.72 7.72c-.78.78-.78 2.05 0 2.83L4 21.41c.39.39.9.59 1.41.59.51 0 1.02-.2 1.41-.59l7.78-7.78 2.81-2.81c.8-.78.8-2.07 0-2.86zM5.41 20L4 18.59l7.72-7.72 1.47 1.35L5.41 20z\"/>\n",
              "  </svg>\n",
              "      </button>\n",
              "      \n",
              "  <style>\n",
              "    .colab-df-container {\n",
              "      display:flex;\n",
              "      flex-wrap:wrap;\n",
              "      gap: 12px;\n",
              "    }\n",
              "\n",
              "    .colab-df-convert {\n",
              "      background-color: #E8F0FE;\n",
              "      border: none;\n",
              "      border-radius: 50%;\n",
              "      cursor: pointer;\n",
              "      display: none;\n",
              "      fill: #1967D2;\n",
              "      height: 32px;\n",
              "      padding: 0 0 0 0;\n",
              "      width: 32px;\n",
              "    }\n",
              "\n",
              "    .colab-df-convert:hover {\n",
              "      background-color: #E2EBFA;\n",
              "      box-shadow: 0px 1px 2px rgba(60, 64, 67, 0.3), 0px 1px 3px 1px rgba(60, 64, 67, 0.15);\n",
              "      fill: #174EA6;\n",
              "    }\n",
              "\n",
              "    [theme=dark] .colab-df-convert {\n",
              "      background-color: #3B4455;\n",
              "      fill: #D2E3FC;\n",
              "    }\n",
              "\n",
              "    [theme=dark] .colab-df-convert:hover {\n",
              "      background-color: #434B5C;\n",
              "      box-shadow: 0px 1px 3px 1px rgba(0, 0, 0, 0.15);\n",
              "      filter: drop-shadow(0px 1px 2px rgba(0, 0, 0, 0.3));\n",
              "      fill: #FFFFFF;\n",
              "    }\n",
              "  </style>\n",
              "\n",
              "      <script>\n",
              "        const buttonEl =\n",
              "          document.querySelector('#df-8423b3c9-7a48-4b7d-aaf5-5cc97e94a929 button.colab-df-convert');\n",
              "        buttonEl.style.display =\n",
              "          google.colab.kernel.accessAllowed ? 'block' : 'none';\n",
              "\n",
              "        async function convertToInteractive(key) {\n",
              "          const element = document.querySelector('#df-8423b3c9-7a48-4b7d-aaf5-5cc97e94a929');\n",
              "          const dataTable =\n",
              "            await google.colab.kernel.invokeFunction('convertToInteractive',\n",
              "                                                     [key], {});\n",
              "          if (!dataTable) return;\n",
              "\n",
              "          const docLinkHtml = 'Like what you see? Visit the ' +\n",
              "            '<a target=\"_blank\" href=https://colab.research.google.com/notebooks/data_table.ipynb>data table notebook</a>'\n",
              "            + ' to learn more about interactive tables.';\n",
              "          element.innerHTML = '';\n",
              "          dataTable['output_type'] = 'display_data';\n",
              "          await google.colab.output.renderOutput(dataTable, element);\n",
              "          const docLink = document.createElement('div');\n",
              "          docLink.innerHTML = docLinkHtml;\n",
              "          element.appendChild(docLink);\n",
              "        }\n",
              "      </script>\n",
              "    </div>\n",
              "  </div>\n",
              "  "
            ]
          },
          "metadata": {},
          "execution_count": 20
        }
      ]
    },
    {
      "cell_type": "code",
      "metadata": {
        "id": "d2A9u5cfbr6q"
      },
      "source": [
        "from sklearn.model_selection import train_test_split"
      ],
      "execution_count": 21,
      "outputs": []
    },
    {
      "cell_type": "code",
      "metadata": {
        "id": "frrhImwcbvyz"
      },
      "source": [
        "X_train,X_test,y_train,y_test=train_test_split(X,y,test_size=0.3,random_state=42,stratify=y)"
      ],
      "execution_count": 22,
      "outputs": []
    },
    {
      "cell_type": "code",
      "source": [
        "from sklearn import tree\n",
        "clf = DecisionTreeClassifier(max_depth = 2, \n",
        "                             random_state = 0)\n",
        "clf.fit(X_train, y_train)\n",
        "tree.export_graphviz(clf,\n",
        "                     out_file=\"tree.dot\",\n",
        "                     filled = True)\n",
        "import pydot\n",
        "(graph,) = pydot.graph_from_dot_file('tree.dot')\n",
        "graph.write_png('somefile.png')\n",
        "from IPython.display import Image\n",
        "Image('somefile.png')"
      ],
      "metadata": {
        "colab": {
          "base_uri": "https://localhost:8080/",
          "height": 376
        },
        "id": "jIDZGAUj315i",
        "outputId": "bd74e68b-2f0b-4a12-d03f-313cc539113e"
      },
      "execution_count": 23,
      "outputs": [
        {
          "output_type": "execute_result",
          "data": {
            "text/plain": [
              "<IPython.core.display.Image object>"
            ],
            "image/png": "[encoded data removed]"
          },
          "metadata": {},
          "execution_count": 23
        }
      ]
    },
    {
      "cell_type": "code",
      "metadata": {
        "id": "vPVTjvxQdOfO"
      },
      "source": [
        "from sklearn.preprocessing import MinMaxScaler"
      ],
      "execution_count": 24,
      "outputs": []
    },
    {
      "cell_type": "code",
      "metadata": {
        "id": "P_9Ep2eYdPjW"
      },
      "source": [
        "scaler=MinMaxScaler()\n",
        "X_train=scaler.fit_transform(X_train)\n",
        "X_test=scaler.transform(X_test)"
      ],
      "execution_count": 25,
      "outputs": []
    },
    {
      "cell_type": "markdown",
      "metadata": {
        "id": "PQ7zFokDderb"
      },
      "source": [
        "#KNN\n"
      ]
    },
    {
      "cell_type": "code",
      "metadata": {
        "id": "y7ZuIbBQdeMO"
      },
      "source": [
        "from sklearn.neighbors import KNeighborsClassifier"
      ],
      "execution_count": 26,
      "outputs": []
    },
    {
      "cell_type": "code",
      "metadata": {
        "id": "_Lf8AnZbdlzG"
      },
      "source": [
        "model=KNeighborsClassifier(n_neighbors=2)"
      ],
      "execution_count": 27,
      "outputs": []
    },
    {
      "cell_type": "code",
      "metadata": {
        "colab": {
          "base_uri": "https://localhost:8080/"
        },
        "id": "7A7jSdKNdpBl",
        "outputId": "c74d49a8-9c15-4190-add8-4dd9cf6e9cc6"
      },
      "source": [
        "model.fit(X_train,y_train)"
      ],
      "execution_count": 28,
      "outputs": [
        {
          "output_type": "execute_result",
          "data": {
            "text/plain": [
              "KNeighborsClassifier(n_neighbors=2)"
            ]
          },
          "metadata": {},
          "execution_count": 28
        }
      ]
    },
    {
      "cell_type": "code",
      "metadata": {
        "colab": {
          "base_uri": "https://localhost:8080/"
        },
        "id": "rEE3tOnLdseN",
        "outputId": "cc2249fd-c9ee-46e9-de01-c682936ccac6"
      },
      "source": [
        "model.score(X_test,y_test)"
      ],
      "execution_count": 29,
      "outputs": [
        {
          "output_type": "execute_result",
          "data": {
            "text/plain": [
              "0.9666666666666667"
            ]
          },
          "metadata": {},
          "execution_count": 29
        }
      ]
    },
    {
      "cell_type": "markdown",
      "metadata": {
        "id": "AXxiShxTeFpa"
      },
      "source": [
        "#KNN prediction"
      ]
    },
    {
      "cell_type": "code",
      "metadata": {
        "id": "BeD-YY43eEP_"
      },
      "source": [
        "data=pd.DataFrame({0:[96],1:[99],2:[72]})"
      ],
      "execution_count": 30,
      "outputs": []
    },
    {
      "cell_type": "code",
      "metadata": {
        "id": "Qb6yctX_eZjs",
        "colab": {
          "base_uri": "https://localhost:8080/"
        },
        "outputId": "0f66fa8c-b2db-4e00-9b9c-a2488ee87010"
      },
      "source": [
        "data=scaler.transform(data)"
      ],
      "execution_count": 31,
      "outputs": [
        {
          "output_type": "stream",
          "name": "stderr",
          "text": [
            "/usr/local/lib/python3.7/dist-packages/sklearn/base.py:451: UserWarning: X does not have valid feature names, but MinMaxScaler was fitted with feature names\n",
            "  \"X does not have valid feature names, but\"\n"
          ]
        }
      ]
    },
    {
      "cell_type": "code",
      "metadata": {
        "colab": {
          "base_uri": "https://localhost:8080/"
        },
        "id": "TLLDRhiwehQL",
        "outputId": "c572fb38-6010-4a4a-9b38-f8809da98cae"
      },
      "source": [
        "model.predict(data)"
      ],
      "execution_count": 32,
      "outputs": [
        {
          "output_type": "execute_result",
          "data": {
            "text/plain": [
              "array([0])"
            ]
          },
          "metadata": {},
          "execution_count": 32
        }
      ]
    },
    {
      "cell_type": "markdown",
      "metadata": {
        "id": "ZweZ860phYPJ"
      },
      "source": [
        "\n",
        "\n",
        "```\n",
        "# This is formatted as code\n",
        "```\n",
        "\n",
        "#logistic regression "
      ]
    },
    {
      "cell_type": "code",
      "metadata": {
        "colab": {
          "base_uri": "https://localhost:8080/"
        },
        "id": "WwYi5simhXqy",
        "outputId": "ce5a571b-0bb2-41e7-84c8-f5d43ebe085f"
      },
      "source": [
        "from sklearn.linear_model import LogisticRegression\n",
        "model=LogisticRegression()\n",
        "model.fit(X_train,y_train)"
      ],
      "execution_count": 33,
      "outputs": [
        {
          "output_type": "execute_result",
          "data": {
            "text/plain": [
              "LogisticRegression()"
            ]
          },
          "metadata": {},
          "execution_count": 33
        }
      ]
    },
    {
      "cell_type": "code",
      "metadata": {
        "colab": {
          "base_uri": "https://localhost:8080/"
        },
        "id": "UQ2o2KwSjfSi",
        "outputId": "056d4714-b788-4fb7-fd07-28bd0c5db99d"
      },
      "source": [
        "model.score(X_test,y_test)"
      ],
      "execution_count": 34,
      "outputs": [
        {
          "output_type": "execute_result",
          "data": {
            "text/plain": [
              "0.9466666666666667"
            ]
          },
          "metadata": {},
          "execution_count": 34
        }
      ]
    },
    {
      "cell_type": "code",
      "metadata": {
        "colab": {
          "base_uri": "https://localhost:8080/"
        },
        "id": "xryZlt7BjlKg",
        "outputId": "856f1386-19fd-4e6a-f8bb-674656b3a5ae"
      },
      "source": [
        "data=pd.DataFrame({0:[96],1:[99],2:[72]})\n",
        "data=scaler.transform(data)\n",
        "model.predict(data)"
      ],
      "execution_count": 35,
      "outputs": [
        {
          "output_type": "stream",
          "name": "stderr",
          "text": [
            "/usr/local/lib/python3.7/dist-packages/sklearn/base.py:451: UserWarning: X does not have valid feature names, but MinMaxScaler was fitted with feature names\n",
            "  \"X does not have valid feature names, but\"\n"
          ]
        },
        {
          "output_type": "execute_result",
          "data": {
            "text/plain": [
              "array([0])"
            ]
          },
          "metadata": {},
          "execution_count": 35
        }
      ]
    },
    {
      "cell_type": "markdown",
      "source": [
        "#"
      ],
      "metadata": {
        "id": "_y51fQS2Tgig"
      }
    },
    {
      "cell_type": "code",
      "source": [
        ""
      ],
      "metadata": {
        "id": "p8zJTUsT0adm"
      },
      "execution_count": null,
      "outputs": []
    },
    {
      "cell_type": "markdown",
      "source": [
        "##random forest regression"
      ],
      "metadata": {
        "id": "DCabdQX57KGf"
      }
    },
    {
      "cell_type": "code",
      "source": [
        "from sklearn.ensemble import RandomForestClassifier\n",
        "regressor = RandomForestClassifier(n_estimators = 7000)\n",
        "regressor.fit(X_train,y_train)"
      ],
      "metadata": {
        "colab": {
          "base_uri": "https://localhost:8080/"
        },
        "id": "KmaDmVfygQZI",
        "outputId": "80d57065-d05f-4db4-9f1e-2d74a6a3a93e"
      },
      "execution_count": 36,
      "outputs": [
        {
          "output_type": "execute_result",
          "data": {
            "text/plain": [
              "RandomForestClassifier(n_estimators=7000)"
            ]
          },
          "metadata": {},
          "execution_count": 36
        }
      ]
    },
    {
      "cell_type": "code",
      "source": [
        "model.score(X_train,y_train)"
      ],
      "metadata": {
        "colab": {
          "base_uri": "https://localhost:8080/"
        },
        "id": "olnhWKcTnrM6",
        "outputId": "28ec205c-eb1a-4578-a94a-a9bbdd1e1e90"
      },
      "execution_count": 37,
      "outputs": [
        {
          "output_type": "execute_result",
          "data": {
            "text/plain": [
              "0.9485714285714286"
            ]
          },
          "metadata": {},
          "execution_count": 37
        }
      ]
    },
    {
      "cell_type": "code",
      "source": [
        "y_predicted=model.predict(X_test)"
      ],
      "metadata": {
        "id": "HZLgkkiU4zOe"
      },
      "execution_count": 38,
      "outputs": []
    },
    {
      "cell_type": "code",
      "source": [
        "X.head()"
      ],
      "metadata": {
        "colab": {
          "base_uri": "https://localhost:8080/",
          "height": 206
        },
        "id": "dpNpXy5Z_zSx",
        "outputId": "de5ae676-a7e7-4939-83b0-c144faea4d1f"
      },
      "execution_count": 39,
      "outputs": [
        {
          "output_type": "execute_result",
          "data": {
            "text/plain": [
              "    temp  oxygen  heart beat\n",
              "0  105.0    94.0        94.0\n",
              "1  102.0    92.0        93.0\n",
              "2  103.0    90.0       129.0\n",
              "3   98.0    85.0        86.0\n",
              "4  100.0    87.0        85.0"
            ],
            "text/html": [
              "\n",
              "  <div id=\"df-cebc4852-a595-4b3d-82da-e8846f4d6278\">\n",
              "    <div class=\"colab-df-container\">\n",
              "      <div>\n",
              "<style scoped>\n",
              "    .dataframe tbody tr th:only-of-type {\n",
              "        vertical-align: middle;\n",
              "    }\n",
              "\n",
              "    .dataframe tbody tr th {\n",
              "        vertical-align: top;\n",
              "    }\n",
              "\n",
              "    .dataframe thead th {\n",
              "        text-align: right;\n",
              "    }\n",
              "</style>\n",
              "<table border=\"1\" class=\"dataframe\">\n",
              "  <thead>\n",
              "    <tr style=\"text-align: right;\">\n",
              "      <th></th>\n",
              "      <th>temp</th>\n",
              "      <th>oxygen</th>\n",
              "      <th>heart beat</th>\n",
              "    </tr>\n",
              "  </thead>\n",
              "  <tbody>\n",
              "    <tr>\n",
              "      <th>0</th>\n",
              "      <td>105.0</td>\n",
              "      <td>94.0</td>\n",
              "      <td>94.0</td>\n",
              "    </tr>\n",
              "    <tr>\n",
              "      <th>1</th>\n",
              "      <td>102.0</td>\n",
              "      <td>92.0</td>\n",
              "      <td>93.0</td>\n",
              "    </tr>\n",
              "    <tr>\n",
              "      <th>2</th>\n",
              "      <td>103.0</td>\n",
              "      <td>90.0</td>\n",
              "      <td>129.0</td>\n",
              "    </tr>\n",
              "    <tr>\n",
              "      <th>3</th>\n",
              "      <td>98.0</td>\n",
              "      <td>85.0</td>\n",
              "      <td>86.0</td>\n",
              "    </tr>\n",
              "    <tr>\n",
              "      <th>4</th>\n",
              "      <td>100.0</td>\n",
              "      <td>87.0</td>\n",
              "      <td>85.0</td>\n",
              "    </tr>\n",
              "  </tbody>\n",
              "</table>\n",
              "</div>\n",
              "      <button class=\"colab-df-convert\" onclick=\"convertToInteractive('df-cebc4852-a595-4b3d-82da-e8846f4d6278')\"\n",
              "              title=\"Convert this dataframe to an interactive table.\"\n",
              "              style=\"display:none;\">\n",
              "        \n",
              "  <svg xmlns=\"http://www.w3.org/2000/svg\" height=\"24px\"viewBox=\"0 0 24 24\"\n",
              "       width=\"24px\">\n",
              "    <path d=\"M0 0h24v24H0V0z\" fill=\"none\"/>\n",
              "    <path d=\"M18.56 5.44l.94 2.06.94-2.06 2.06-.94-2.06-.94-.94-2.06-.94 2.06-2.06.94zm-11 1L8.5 8.5l.94-2.06 2.06-.94-2.06-.94L8.5 2.5l-.94 2.06-2.06.94zm10 10l.94 2.06.94-2.06 2.06-.94-2.06-.94-.94-2.06-.94 2.06-2.06.94z\"/><path d=\"M17.41 7.96l-1.37-1.37c-.4-.4-.92-.59-1.43-.59-.52 0-1.04.2-1.43.59L10.3 9.45l-7.72 7.72c-.78.78-.78 2.05 0 2.83L4 21.41c.39.39.9.59 1.41.59.51 0 1.02-.2 1.41-.59l7.78-7.78 2.81-2.81c.8-.78.8-2.07 0-2.86zM5.41 20L4 18.59l7.72-7.72 1.47 1.35L5.41 20z\"/>\n",
              "  </svg>\n",
              "      </button>\n",
              "      \n",
              "  <style>\n",
              "    .colab-df-container {\n",
              "      display:flex;\n",
              "      flex-wrap:wrap;\n",
              "      gap: 12px;\n",
              "    }\n",
              "\n",
              "    .colab-df-convert {\n",
              "      background-color: #E8F0FE;\n",
              "      border: none;\n",
              "      border-radius: 50%;\n",
              "      cursor: pointer;\n",
              "      display: none;\n",
              "      fill: #1967D2;\n",
              "      height: 32px;\n",
              "      padding: 0 0 0 0;\n",
              "      width: 32px;\n",
              "    }\n",
              "\n",
              "    .colab-df-convert:hover {\n",
              "      background-color: #E2EBFA;\n",
              "      box-shadow: 0px 1px 2px rgba(60, 64, 67, 0.3), 0px 1px 3px 1px rgba(60, 64, 67, 0.15);\n",
              "      fill: #174EA6;\n",
              "    }\n",
              "\n",
              "    [theme=dark] .colab-df-convert {\n",
              "      background-color: #3B4455;\n",
              "      fill: #D2E3FC;\n",
              "    }\n",
              "\n",
              "    [theme=dark] .colab-df-convert:hover {\n",
              "      background-color: #434B5C;\n",
              "      box-shadow: 0px 1px 3px 1px rgba(0, 0, 0, 0.15);\n",
              "      filter: drop-shadow(0px 1px 2px rgba(0, 0, 0, 0.3));\n",
              "      fill: #FFFFFF;\n",
              "    }\n",
              "  </style>\n",
              "\n",
              "      <script>\n",
              "        const buttonEl =\n",
              "          document.querySelector('#df-cebc4852-a595-4b3d-82da-e8846f4d6278 button.colab-df-convert');\n",
              "        buttonEl.style.display =\n",
              "          google.colab.kernel.accessAllowed ? 'block' : 'none';\n",
              "\n",
              "        async function convertToInteractive(key) {\n",
              "          const element = document.querySelector('#df-cebc4852-a595-4b3d-82da-e8846f4d6278');\n",
              "          const dataTable =\n",
              "            await google.colab.kernel.invokeFunction('convertToInteractive',\n",
              "                                                     [key], {});\n",
              "          if (!dataTable) return;\n",
              "\n",
              "          const docLinkHtml = 'Like what you see? Visit the ' +\n",
              "            '<a target=\"_blank\" href=https://colab.research.google.com/notebooks/data_table.ipynb>data table notebook</a>'\n",
              "            + ' to learn more about interactive tables.';\n",
              "          element.innerHTML = '';\n",
              "          dataTable['output_type'] = 'display_data';\n",
              "          await google.colab.output.renderOutput(dataTable, element);\n",
              "          const docLink = document.createElement('div');\n",
              "          docLink.innerHTML = docLinkHtml;\n",
              "          element.appendChild(docLink);\n",
              "        }\n",
              "      </script>\n",
              "    </div>\n",
              "  </div>\n",
              "  "
            ]
          },
          "metadata": {},
          "execution_count": 39
        }
      ]
    },
    {
      "cell_type": "code",
      "source": [
        "from sklearn.utils.multiclass import unique_labels\n",
        "unique_labels(y_test)"
      ],
      "metadata": {
        "colab": {
          "base_uri": "https://localhost:8080/"
        },
        "id": "rwRM9e47BXDT",
        "outputId": "17493b27-de94-47a6-c879-512f35d86596"
      },
      "execution_count": 40,
      "outputs": [
        {
          "output_type": "execute_result",
          "data": {
            "text/plain": [
              "array([0, 1, 2])"
            ]
          },
          "metadata": {},
          "execution_count": 40
        }
      ]
    },
    {
      "cell_type": "code",
      "source": [
        "from sklearn.metrics import confusion_matrix\n",
        "cm=confusion_matrix(y_test,y_predicted)\n",
        "cm"
      ],
      "metadata": {
        "colab": {
          "base_uri": "https://localhost:8080/"
        },
        "id": "lWXj2EK35GlP",
        "outputId": "b5d8cfea-3602-486c-c17c-7d7c0ab84197"
      },
      "execution_count": 41,
      "outputs": [
        {
          "output_type": "execute_result",
          "data": {
            "text/plain": [
              "array([[203,   0,   0],\n",
              "       [  6,  73,   0],\n",
              "       [  1,   9,   8]])"
            ]
          },
          "metadata": {},
          "execution_count": 41
        }
      ]
    },
    {
      "cell_type": "code",
      "source": [
        " %matplotlib inline \n",
        "import matplotlib.pyplot as plt\n",
        "import seaborn as sn\n",
        "plt.figure(figsize=(10,7))\n",
        "sn.heatmap(cm,annot=True)\n",
        "plt.xlabel('Predicted')\n",
        "plt.ylabel('Truth')\n"
      ],
      "metadata": {
        "colab": {
          "base_uri": "https://localhost:8080/",
          "height": 459
        },
        "id": "5uH-EmVQ5fVJ",
        "outputId": "aa3efb17-a8d3-4323-e32c-30c37ea10c32"
      },
      "execution_count": 42,
      "outputs": [
        {
          "output_type": "execute_result",
          "data": {
            "text/plain": [
              "Text(69.0, 0.5, 'Truth')"
            ]
          },
          "metadata": {},
          "execution_count": 42
        },
        {
          "output_type": "display_data",
          "data": {
            "text/plain": [
              "<Figure size 720x504 with 2 Axes>"
            ],
            "image/png": "[encoded data removed]"
          },
          "metadata": {
            "needs_background": "light"
          }
        }
      ]
    }
  ]
}